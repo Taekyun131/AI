{
 "cells": [
  {
   "cell_type": "code",
   "execution_count": 1,
   "metadata": {},
   "outputs": [
    {
     "name": "stdout",
     "output_type": "stream",
     "text": [
      "10\n",
      "[10, 50, 30, 40]\n",
      "4\n",
      "['apple', 'orange', 'grape', 'banana']\n",
      "['orange', 'grape', 'banana']\n"
     ]
    }
   ],
   "source": [
    "##리스트 관련 예제문제\n",
    "\n",
    "#문제 1: 주어진 리스트에서 첫번째 요소를 출력하세요\n",
    "numbers=[10,20,30,40];\n",
    "print(numbers[0]);\n",
    "\n",
    "#문제 2: 주어진 리스트에서 두 번째 요소를 변경하여 '50'으로 만드세요\n",
    "numbers[1]=50;\n",
    "print(numbers);\n",
    "\n",
    "#문제 3: 주어진 리스트의 길이를 출력하세요\n",
    "print(len(numbers));\n",
    "\n",
    "#문제 4: 주어진 리스트에서 'banana'를 추가하세요\n",
    "fruit=[\"apple\",\"orange\",\"grape\"];\n",
    "fruit.append(\"banana\");\n",
    "print(fruit);\n",
    "\n",
    "#문제 5: 주어진 리스트에서 \"apple\"를 삭제하세요\n",
    "fruit.remove(\"apple\");\n",
    "print(fruit);"
   ]
  },
  {
   "cell_type": "code",
   "execution_count": 2,
   "metadata": {},
   "outputs": [
    {
     "name": "stdout",
     "output_type": "stream",
     "text": [
      "10\n",
      "15\n",
      "[1, 2, 3]\n",
      "5\n"
     ]
    }
   ],
   "source": [
    "##튜플 관련 문제\n",
    "\n",
    "#문제 1: 주어진 튜플의 첫 번째 값을 출력하세요\n",
    "coordinates=(10,20,30);\n",
    "print(coordinates[0]);\n",
    "\n",
    "#문제 2:주어진 튜플에서 두 번째 값을 변경할 수 있는지 확인해보세요\n",
    "# coordinates[1]=50;\n",
    "# print(coordinates);\n",
    "\n",
    "#문제 3:주어진 튜플에서 마지막 값을 출력하세요\n",
    "coordinates=(5,10,15);\n",
    "print(coordinates[len(coordinates)-1])\n",
    "\n",
    "#문제 4: 주어진 튜플을 리스트로 변환하여 출력하세요\n",
    "coordinates=(1,2,3);\n",
    "co_list=[];\n",
    "# co_list.append(coordinates[0]);\n",
    "# co_list.append(coordinates[1]);\n",
    "# co_list.append(coordinates[2]);\n",
    "co_list=list(coordinates);\n",
    "print(co_list);\n",
    "\n",
    "\n",
    "#문제 5: 주어진 튜플의 길이를 출력하세요\n",
    "coordinates=(1,2,3,4,5);\n",
    "print(len(coordinates));"
   ]
  },
  {
   "cell_type": "code",
   "execution_count": 3,
   "metadata": {},
   "outputs": [
    {
     "name": "stdout",
     "output_type": "stream",
     "text": [
      "John\n",
      "35\n",
      "{'age': 35}\n",
      "name John\n",
      "age 30\n",
      "city New York\n"
     ]
    }
   ],
   "source": [
    "##딕셔너리 관련 문제\n",
    "\n",
    "#문제 1: 주어진 딕셔너리에서 'name'키에 해당하는 값을 출력하세요\n",
    "person={\"name\":\"John\",\"age\":30};\n",
    "print(person[\"name\"]);\n",
    "\n",
    "#문제 2: 주어진 딕셔너리에서 'age'값을 35로 변경하세요\n",
    "person[\"age\"]=35;\n",
    "print(person[\"age\"]);\n",
    "\n",
    "#문제 4: 주어진 딕셔너리에서 'name'키를 삭제하세요\n",
    "del person[\"name\"];\n",
    "print(person);\n",
    "\n",
    "#문제 5: 주어진 딕셔너리에서 모든 키와 값을 출력하세요\n",
    "person={\"name\":\"John\",\"age\":30,\"city\":\"New York\"};\n",
    "# print(person);\n",
    "for key, value in person.items():\n",
    "    print(key,value);\n"
   ]
  },
  {
   "cell_type": "code",
   "execution_count": 22,
   "metadata": {},
   "outputs": [
    {
     "name": "stdout",
     "output_type": "stream",
     "text": [
      "[1, 2, 3, 4, 5, 6]\n",
      "[1, 3, 5, 7, 9]\n",
      "[4, 9, 16, 25]\n",
      "False\n",
      "oxoxoxoxoxoxoxoxoxox\n"
     ]
    }
   ],
   "source": [
    "##리스트 관련 문제 lv2\n",
    "\n",
    "#문제 1: 주어진 리스트에서 중복된 요소를 제거한 새로운 리스트를 반환하는 프로그램을 작성하세요\n",
    "numbers=[1,2,3,4,4,5,2,6,1];\n",
    "temp=[];\n",
    "for number in numbers:\n",
    "    if number not in temp:\n",
    "        temp.append(number);\n",
    "print(temp);\n",
    "# filter_numbers=set(numbers);\n",
    "# print(filter_numbers);\n",
    "        \n",
    "#문제 2: 주어진 리스트에서 홀수만 골라서 새로운 리스트로 반환하세요\n",
    "numbers=[1,2,3,4,5,6,7,8,9];\n",
    "temp=[];\n",
    "for number in numbers:\n",
    "    if number%2==1:\n",
    "        temp.append(number);\n",
    "print(temp);\n",
    "\n",
    "#문제 3: 주어진 리스트의 각 요소를 제곱한 값을 가진 새로운 리스트를 반환하는 프로그램을 작성하세요\n",
    "numbers=[2,3,4,5];\n",
    "square_numbers=[];\n",
    "for number in numbers:\n",
    "    square_numbers.append(number**2)\n",
    "print(square_numbers);\n",
    "\n",
    "#문제 4: 주어진 리스트에서 특정 값이 있는지 확인하는 프로그램을 작성하세요(값은 3이라고 가정)\n",
    "numbers=[10,20,30,40,50];\n",
    "flag=False;\n",
    "temp=3;\n",
    "if temp in numbers:\n",
    "    flag=True;\n",
    "print(flag); \n",
    "\n"
   ]
  }
 ],
 "metadata": {
  "kernelspec": {
   "display_name": ".venv",
   "language": "python",
   "name": "python3"
  },
  "language_info": {
   "codemirror_mode": {
    "name": "ipython",
    "version": 3
   },
   "file_extension": ".py",
   "mimetype": "text/x-python",
   "name": "python",
   "nbconvert_exporter": "python",
   "pygments_lexer": "ipython3",
   "version": "3.12.8"
  }
 },
 "nbformat": 4,
 "nbformat_minor": 2
}
