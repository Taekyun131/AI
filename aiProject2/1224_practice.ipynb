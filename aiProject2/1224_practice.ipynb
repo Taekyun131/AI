{
 "cells": [
  {
   "cell_type": "code",
   "execution_count": 9,
   "metadata": {},
   "outputs": [
    {
     "name": "stdout",
     "output_type": "stream",
     "text": [
      "10 -20\n",
      "<class 'int'>\n",
      "<class 'float'>\n",
      "3\n"
     ]
    }
   ],
   "source": [
    "num1=10\n",
    "num2=-20\n",
    "print(num1,num2)\n",
    "print(type(num1))\n",
    "num1=3.14\n",
    "print(type(num1))\n",
    "num1=int(3.14)\n",
    "print(num1)"
   ]
  },
  {
   "cell_type": "code",
   "execution_count": 5,
   "metadata": {},
   "outputs": [
    {
     "name": "stdout",
     "output_type": "stream",
     "text": [
      "3.14 -2.718\n"
     ]
    }
   ],
   "source": [
    "num1=3.14\n",
    "num2=-2.718\n",
    "print(num1,num2)"
   ]
  },
  {
   "cell_type": "code",
   "execution_count": 30,
   "metadata": {},
   "outputs": [
    {
     "name": "stdout",
     "output_type": "stream",
     "text": [
      "HelloPython\n",
      "This is\n",
      "a multi-line\n",
      "string\n"
     ]
    }
   ],
   "source": [
    "str1='Hello'\n",
    "str2='Python'\n",
    "print(str1+str2)\n",
    "\n",
    "str3='''This is\n",
    "a multi-line\n",
    "string'''\n",
    "print(str3)"
   ]
  },
  {
   "cell_type": "code",
   "execution_count": 35,
   "metadata": {},
   "outputs": [
    {
     "name": "stdout",
     "output_type": "stream",
     "text": [
      "P\n",
      "n\n",
      "Pyt\n",
      "yth\n",
      "yt\n",
      "Pto\n",
      "yh\n",
      "Py\n",
      "1\n",
      "Python\n",
      "PYTHON\n",
      "python\n"
     ]
    }
   ],
   "source": [
    "text=\"Python\"\n",
    "print(text[0]);\n",
    "print(text[-1]);\n",
    "print(text[0:3]);\n",
    "print(text[1:4]);\n",
    "print(text[1:3]);\n",
    "print(text[::2]);\n",
    "print(text[1:5:2]);\n",
    "print(text[:2:1])\n",
    "print(text.find('y'))\n",
    "print(f\"{text}\")\n",
    "print(text.upper())\n",
    "print(text.lower())"
   ]
  },
  {
   "cell_type": "code",
   "execution_count": 39,
   "metadata": {},
   "outputs": [
    {
     "name": "stdout",
     "output_type": "stream",
     "text": [
      "-1\n",
      "3\n"
     ]
    }
   ],
   "source": [
    "#주석달기\n",
    "text=\"banana\";\n",
    "print(text.find(\"t\"));\n",
    "print(text.count(\"a\"));"
   ]
  },
  {
   "cell_type": "code",
   "execution_count": 6,
   "metadata": {},
   "outputs": [
    {
     "name": "stdout",
     "output_type": "stream",
     "text": [
      "Hello World\n",
      "['Python', 'is', 'fun']\n",
      "fun\n",
      "['Python', 'is', 'fun', 'h']\n",
      "Python kkk is kkk fun kkk h\n"
     ]
    }
   ],
   "source": [
    "text=\" Hello World \";\n",
    "print(text.strip());\n",
    "text=\"Python is fun\";\n",
    "print(text.split())\n",
    "array=text.split();\n",
    "print(array[2]);\n",
    "array.append(text[3]);\n",
    "print(array);\n",
    "joined_text=' kkk '.join(array);\n",
    "print(joined_text);"
   ]
  },
  {
   "cell_type": "code",
   "execution_count": 11,
   "metadata": {},
   "outputs": [
    {
     "name": "stdout",
     "output_type": "stream",
     "text": [
      "My name \t is Alice and \n",
      " I am 30 years \\ old\n"
     ]
    }
   ],
   "source": [
    "name=\"Alice\";\n",
    "age=30;\n",
    "print(f\"My name \\t is {name} and \\n I am {age} years \\\\ old\");"
   ]
  },
  {
   "cell_type": "code",
   "execution_count": 18,
   "metadata": {},
   "outputs": [
    {
     "name": "stdout",
     "output_type": "stream",
     "text": [
      "False\n",
      "True\n",
      "False\n",
      "접근거부\n"
     ]
    }
   ],
   "source": [
    "a=True;\n",
    "b=False;\n",
    "print(a and b);\n",
    "print(a or b);\n",
    "print(not a);\n",
    "\n",
    "is_authenticated=True;\n",
    "has_permission=False;\n",
    "if is_authenticated and has_permission:\n",
    "    print(\"접근허용\");\n",
    "else:\n",
    "    print(\"접근거부\");\n",
    "\n"
   ]
  },
  {
   "cell_type": "code",
   "execution_count": 21,
   "metadata": {},
   "outputs": [
    {
     "name": "stdout",
     "output_type": "stream",
     "text": [
      "apple\n",
      "['apple', 'banana']\n"
     ]
    }
   ],
   "source": [
    "fruit=[\"apple\",\"banana\",\"cherry\"];\n",
    "print(fruit[0]);\n",
    "print(fruit[0:2])"
   ]
  },
  {
   "cell_type": "code",
   "execution_count": 63,
   "metadata": {},
   "outputs": [
    {
     "name": "stdout",
     "output_type": "stream",
     "text": [
      "[3, 1, 4, 1, 5, 9]\n",
      "[1, 1, 3, 4, 5, 9]\n",
      "[1, 3, 4, 5, 9]\n",
      "[1, 3, 5, 9]\n",
      "[9, 5, 3, 1]\n",
      "1\n",
      "[9, 5, 3, 1]\n",
      "[9, 5, 3, 1, 6, 7, 8]\n",
      "[9, 5, 3, 1, 6, 7, 8, 10, 11, 12]\n"
     ]
    }
   ],
   "source": [
    "numbers=[3,1,4,1,5];\n",
    "\n",
    "numbers.append(9);\n",
    "print(numbers);\n",
    "\n",
    "numbers.sort();\n",
    "print(numbers);\n",
    "numbers\n",
    "\n",
    "numbers.remove(1);\n",
    "print(numbers);\n",
    "\n",
    "numbers.pop(2);\n",
    "print(numbers);\n",
    "\n",
    "numbers.reverse();\n",
    "print(numbers);\n",
    "\n",
    "print(numbers.count(5))\n",
    "\n",
    "new_numbers=numbers.copy();\n",
    "# new_numbers=numbers;\n",
    "print(new_numbers);\n",
    "\n",
    "numbers.extend([6,7,8]);\n",
    "print(numbers);\n",
    "\n",
    "another_list=[10,11,12];\n",
    "combined_list=numbers+another_list;\n",
    "print(combined_list);\n",
    "\n"
   ]
  },
  {
   "cell_type": "code",
   "execution_count": 66,
   "metadata": {},
   "outputs": [
    {
     "name": "stdout",
     "output_type": "stream",
     "text": [
      "blue\n",
      "('red', 'green')\n"
     ]
    }
   ],
   "source": [
    "colors=(\"red\",\"green\",\"blue\");\n",
    "print(colors[2]);\n",
    "print(colors[0:2]);"
   ]
  },
  {
   "cell_type": "code",
   "execution_count": 70,
   "metadata": {},
   "outputs": [
    {
     "name": "stdout",
     "output_type": "stream",
     "text": [
      "2\n",
      "2\n",
      "x좌표:  3\n",
      "y좌표:  4\n"
     ]
    }
   ],
   "source": [
    "numbers=(1,2,3,2,4);\n",
    "print(numbers.count(2));\n",
    "print(numbers.index(3));\n",
    "\n",
    "point=(3,4);\n",
    "print(\"x좌표: \",point[0]);\n",
    "print(\"y좌표: \",point[1]);"
   ]
  },
  {
   "cell_type": "code",
   "execution_count": 114,
   "metadata": {},
   "outputs": [
    {
     "name": "stdout",
     "output_type": "stream",
     "text": [
      "Bob\n",
      "New York\n",
      "31\n",
      "Charlie\n",
      "dict_keys(['name', 'age'])\n",
      "dict_values(['Charlie', 22])\n",
      "dict_items([('name', 'Charlie'), ('age', 22)])\n"
     ]
    }
   ],
   "source": [
    "person={\"name\":\"Bob\",\"age\":30,\"city\":\"New York\"};\n",
    "print(person[\"name\"]);\n",
    "print(person[\"city\"]);\n",
    "person[\"age\"]=31;\n",
    "print(person[\"age\"]);\n",
    "\n",
    "info={\"name\":\"Charlie\",\"age\":22};\n",
    "print(info.get(\"name\"));\n",
    "print(info.keys());\n",
    "print(info.values());\n",
    "print(info.items());"
   ]
  },
  {
   "cell_type": "code",
   "execution_count": 119,
   "metadata": {},
   "outputs": [
    {
     "name": "stdout",
     "output_type": "stream",
     "text": [
      "테스트에 합격하셨습니다\n",
      "홀수입니다.\n",
      "B학점\n",
      "조건을 만족합니다.\n"
     ]
    }
   ],
   "source": [
    "score=85;\n",
    "if score>80:\n",
    "    print(\"테스트에 합격하셨습니다\")\n",
    "    \n",
    "\n",
    "number=5;\n",
    "if number%2==0:\n",
    "    print(\"짝수입니다.\");\n",
    "else:\n",
    "    print(\"홀수입니다.\");\n",
    "    \n",
    "\n",
    "score=85;\n",
    "if score>=90:\n",
    "    print(\"A학점\");\n",
    "elif score>=80:\n",
    "    print(\"B학점\");\n",
    "else:\n",
    "    print(\"C학점\");\n",
    "\n",
    "x,y=10,20\n",
    "if x>5 and y<30:\n",
    "    print(\"조건을 만족합니다.\")"
   ]
  },
  {
   "cell_type": "code",
   "execution_count": 126,
   "metadata": {},
   "outputs": [
    {
     "name": "stdout",
     "output_type": "stream",
     "text": [
      "2\n",
      "4\n",
      "6\n",
      "8\n",
      "10\n",
      "현재 값:1\n",
      "현재 값:2\n",
      "현재 값:3\n",
      "현재 값:4\n",
      "현재 값:5\n",
      "i:1,j:1\n",
      "i:1,j:2\n",
      "i:2,j:1\n",
      "i:2,j:2\n",
      "i:3,j:1\n",
      "i:3,j:2\n",
      "인덱스 0:A\n",
      "인덱스 1:B\n",
      "인덱스 2:C\n"
     ]
    }
   ],
   "source": [
    "numbers=[1,2,3,4,5];\n",
    "for num in numbers:\n",
    "    print(num*2);\n",
    "    \n",
    "for i in range(1,6):\n",
    "    print(f\"현재 값:{i}\")\n",
    "    \n",
    "for i in range (1,4):\n",
    "    for j in range(1,3):\n",
    "        print(f\"i:{i},j:{j}\")\n",
    "\n",
    "items=[\"A\",\"B\",\"C\"];\n",
    "for idx, item in enumerate(items):\n",
    "    print(f\"인덱스 {idx}:{item}\")\n",
    "    \n"
   ]
  },
  {
   "cell_type": "code",
   "execution_count": 139,
   "metadata": {},
   "outputs": [
    {
     "name": "stdout",
     "output_type": "stream",
     "text": [
      "Count:0\n",
      "Count:1\n",
      "Count:2\n",
      "Count:3\n",
      "Count:4\n",
      "5\n",
      "4\n",
      "3\n",
      "2\n",
      "1\n",
      "반복 종료\n",
      "1\n",
      "3\n",
      "5\n",
      "7\n"
     ]
    }
   ],
   "source": [
    "count=0;\n",
    "while count<5:\n",
    "    print(f\"Count:{count}\")\n",
    "    count+=1;\n",
    "    \n",
    "# while True:\n",
    "#     user_input=input(\"종료하려면 'exit' 입력:\");\n",
    "#     if user_input==\"exit\":\n",
    "#         break;\n",
    "    \n",
    "x=5;\n",
    "while x>0:\n",
    "    print(x);\n",
    "    x-=1;\n",
    "else:\n",
    "    print(\"반복 종료\")\n",
    "\n",
    "n=0;\n",
    "while n<10:\n",
    "    n+=1;\n",
    "    if n%2==0:\n",
    "        continue;\n",
    "    print(n);\n",
    "    if n==7:\n",
    "        break;"
   ]
  },
  {
   "cell_type": "code",
   "execution_count": null,
   "metadata": {},
   "outputs": [],
   "source": []
  }
 ],
 "metadata": {
  "kernelspec": {
   "display_name": ".venv",
   "language": "python",
   "name": "python3"
  },
  "language_info": {
   "codemirror_mode": {
    "name": "ipython",
    "version": 3
   },
   "file_extension": ".py",
   "mimetype": "text/x-python",
   "name": "python",
   "nbconvert_exporter": "python",
   "pygments_lexer": "ipython3",
   "version": "3.12.8"
  }
 },
 "nbformat": 4,
 "nbformat_minor": 2
}
