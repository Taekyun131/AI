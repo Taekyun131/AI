{
 "cells": [
  {
   "cell_type": "markdown",
   "metadata": {},
   "source": [
    "Numpy 예제\n",
    "문제:\n",
    "1. 1부터 10까지의 정수를 담고 있는 numpy 배열을 만드세요.\n",
    "2. 해당 배열의 평균과 표준편차를 구하세요.\n",
    "3. 배열의 요소를 2배씩 증가시키는 새로운 배열을 만드세요."
   ]
  },
  {
   "cell_type": "code",
   "execution_count": 7,
   "metadata": {},
   "outputs": [
    {
     "name": "stdout",
     "output_type": "stream",
     "text": [
      "[ 1  2  3  4  5  6  7  8  9 10]\n",
      "5.5\n",
      "2.872\n",
      "[ 2  4  6  8 10 12 14 16 18 20]\n"
     ]
    }
   ],
   "source": [
    "import numpy as np\n",
    "\n",
    "#1번 문제\n",
    "arr=np.arange(1,11);\n",
    "print(arr);\n",
    "\n",
    "#2번 문제\n",
    "avg=np.mean(arr);\n",
    "print(avg);\n",
    "\n",
    "std=np.std(arr);\n",
    "print(round(std,3));\n",
    "\n",
    "#3번 문제\n",
    "new_arr=arr*2;\n",
    "print(new_arr);\n",
    "\n"
   ]
  },
  {
   "cell_type": "markdown",
   "metadata": {},
   "source": [
    "Pandas 예제\n",
    "문제:\n",
    "1. 아래와 같은 데이터프레임을 만들고, Name 열을 기준으로 오름차순 정렬하세요.\n",
    "2. Age 열의 평균을 구하세요.\n",
    "3. Salary 열에서 3000 이상인 사람들의 이름과 연봉을 출력하세요.\n",
    "\n",
    "Name\tAge\tSalary\n",
    "John\t25\t3000\n",
    "Alice\t30\t3500\n",
    "Bob\t22\t2500\n",
    "Eve\t28\t4500"
   ]
  },
  {
   "cell_type": "code",
   "execution_count": 13,
   "metadata": {},
   "outputs": [
    {
     "name": "stdout",
     "output_type": "stream",
     "text": [
      "    Name  Age  Salary\n",
      "0   John   25    3000\n",
      "1  Alice   30    3500\n",
      "2    Bob   22    2500\n",
      "3    Eve   28    4500\n",
      "    Name  Age  Salary\n",
      "1  Alice   30    3500\n",
      "2    Bob   22    2500\n",
      "3    Eve   28    4500\n",
      "0   John   25    3000\n",
      "26.25\n",
      "    Name  Salary\n",
      "0   John    3000\n",
      "1  Alice    3500\n",
      "3    Eve    4500\n"
     ]
    }
   ],
   "source": [
    "import pandas as pd\n",
    "\n",
    "#데이터프레임 생성\n",
    "data={\n",
    "    \"Name\":[\"John\",\"Alice\",\"Bob\",\"Eve\"],\n",
    "    \"Age\":[25,30,22,28],\n",
    "    \"Salary\":[3000,3500,2500,4500]\n",
    "};\n",
    "df=pd.DataFrame(data);\n",
    "print(df);\n",
    "\n",
    "#Name 열 기준 오름차순 정렬\n",
    "df_sorted=df.sort_values(by=\"Name\");\n",
    "print(df_sorted);\n",
    "\n",
    "#Age 열의 평균구하기\n",
    "average_age=df[\"Age\"].mean();\n",
    "print(average_age);\n",
    "\n",
    "#Salary가 3000이상인 사람들의 이름과 연봉 출력\n",
    "high_salary=df[df[\"Salary\"]>=3000][[\"Name\",\"Salary\"]];\n",
    "print(high_salary);"
   ]
  },
  {
   "cell_type": "markdown",
   "metadata": {},
   "source": [
    "Seaborn 예제\n",
    "문제:\n",
    "1. seaborn을 사용하여 iris 데이터셋을 로드하고, sepal_length와 sepal_width의 관계를 산점도(Scatter Plot)로      시각화하세요.\n",
    "2. species별로 sepal_length의 평균을 막대 그래프로 시각화하세요."
   ]
  },
  {
   "cell_type": "code",
   "execution_count": 17,
   "metadata": {},
   "outputs": [
    {
     "name": "stdout",
     "output_type": "stream",
     "text": [
      "     sepal_length  sepal_width  petal_length  petal_width    species\n",
      "0             5.1          3.5           1.4          0.2     setosa\n",
      "1             4.9          3.0           1.4          0.2     setosa\n",
      "2             4.7          3.2           1.3          0.2     setosa\n",
      "3             4.6          3.1           1.5          0.2     setosa\n",
      "4             5.0          3.6           1.4          0.2     setosa\n",
      "..            ...          ...           ...          ...        ...\n",
      "145           6.7          3.0           5.2          2.3  virginica\n",
      "146           6.3          2.5           5.0          1.9  virginica\n",
      "147           6.5          3.0           5.2          2.0  virginica\n",
      "148           6.2          3.4           5.4          2.3  virginica\n",
      "149           5.9          3.0           5.1          1.8  virginica\n",
      "\n",
      "[150 rows x 5 columns]\n"
     ]
    },
    {
     "data": {
      "image/png": "[encoded data removed]",
      "text/plain": [
       "<Figure size 640x480 with 1 Axes>"
      ]
     },
     "metadata": {},
     "output_type": "display_data"
    }
   ],
   "source": [
    "import seaborn as sns\n",
    "import matplotlib.pyplot as plt\n",
    "\n",
    "#iris 데이터셋 로드\n",
    "iris=sns.load_dataset(\"iris\");\n",
    "print(iris);\n",
    "\n",
    "#sepal_length와 sepal_width의 관계를 산점도로 시각화\n",
    "sns.scatterplot(x=\"sepal_length\",y=\"sepal_width\",data=iris);\n",
    "plt.title(\"Sepal Length vs Sepal width\");\n",
    "plt.show();"
   ]
  },
  {
   "cell_type": "code",
   "execution_count": null,
   "metadata": {},
   "outputs": [],
   "source": []
  }
 ],
 "metadata": {
  "kernelspec": {
   "display_name": ".venv",
   "language": "python",
   "name": "python3"
  },
  "language_info": {
   "codemirror_mode": {
    "name": "ipython",
    "version": 3
   },
   "file_extension": ".py",
   "mimetype": "text/x-python",
   "name": "python",
   "nbconvert_exporter": "python",
   "pygments_lexer": "ipython3",
   "version": "3.12.8"
  }
 },
 "nbformat": 4,
 "nbformat_minor": 2
}
