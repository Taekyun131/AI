{
 "cells": [
  {
   "cell_type": "markdown",
   "metadata": {},
   "source": [
    "Numpy함수 학습"
   ]
  },
  {
   "cell_type": "code",
   "execution_count": 1,
   "metadata": {},
   "outputs": [
    {
     "name": "stdout",
     "output_type": "stream",
     "text": [
      "[1 2 3 4 5]\n"
     ]
    }
   ],
   "source": [
    "#np.array():numpy 배열을 생성하는 함수\n",
    "import numpy as np\n",
    "\n",
    "#리스트를 numpy 배열로 변환\n",
    "arr=np.array([1,2,3,4,5]);\n",
    "print(arr);\n"
   ]
  },
  {
   "cell_type": "code",
   "execution_count": null,
   "metadata": {},
   "outputs": [
    {
     "name": "stdout",
     "output_type": "stream",
     "text": [
      "[0 1 2 3 4 5 6 7 8 9]\n",
      "[0 2 4 6 8]\n"
     ]
    }
   ],
   "source": [
    "#np.arange(): 지정된 범위 내에서 일정 간격으로 값을 생성하는 함수   \n",
    "    #start부터 stop까지 step간격으로 값을 생성\n",
    "\n",
    "#0부터 9까지의 정수 배열 생성\n",
    "arr=np.arange(10);\n",
    "print(arr);\n",
    "\n",
    "#0부터 10까지 2간격으로 생성\n",
    "arr2=np.arange(0,10,2);\n",
    "print(arr2);"
   ]
  },
  {
   "cell_type": "code",
   "execution_count": null,
   "metadata": {},
   "outputs": [
    {
     "name": "stdout",
     "output_type": "stream",
     "text": [
      "[0.   0.25 0.5  0.75 1.  ]\n"
     ]
    }
   ],
   "source": [
    "#np.linspace(): 주어진 구간을 일정한 간격으로 나누어 값을 생성하는 함수\n",
    "    #start와 stop사이를 num개의 균등 간격으로 나누어 값을 생성\n",
    "\n",
    "#0부터 1까지 5개의 균등한 간격의 값 생성\n",
    "arr=np.linspace(0,1,5);\n",
    "print(arr);"
   ]
  },
  {
   "cell_type": "code",
   "execution_count": null,
   "metadata": {},
   "outputs": [
    {
     "name": "stdout",
     "output_type": "stream",
     "text": [
      "[[0.23199891 0.64795154 0.68833913]\n",
      " [0.64668786 0.56381232 0.19245183]]\n"
     ]
    }
   ],
   "source": [
    "#np.random.random(): 0과 1 사이의 난수를 생성하는 함수\n",
    "\n",
    "arr=np.random.random((2,3));\n",
    "print(arr);"
   ]
  },
  {
   "cell_type": "code",
   "execution_count": null,
   "metadata": {},
   "outputs": [
    {
     "name": "stdout",
     "output_type": "stream",
     "text": [
      "[[0. 0. 0.]\n",
      " [0. 0. 0.]\n",
      " [0. 0. 0.]]\n"
     ]
    }
   ],
   "source": [
    "#np.zeros(): 모든 요소가 0인 배열을 생성하는 함수\n",
    "\n",
    "#3*3 크기의 0으로 채워진 배열 생성\n",
    "arr=np.zeros((3,3));\n",
    "print(arr);"
   ]
  },
  {
   "cell_type": "code",
   "execution_count": null,
   "metadata": {},
   "outputs": [
    {
     "name": "stdout",
     "output_type": "stream",
     "text": [
      "15\n",
      "[5 7 9]\n"
     ]
    }
   ],
   "source": [
    "#np.sum(): 배열의 합을 구하는 함수\n",
    "\n",
    "#배열 생성\n",
    "arr=np.array([1,2,3,4,5]);\n",
    "\n",
    "#배열의 합 계산\n",
    "total=np.sum(arr);\n",
    "print(total);\n",
    "\n",
    "#2D 배열에서 각 열의 합 계산\n",
    "arr2=np.array([[1,2,3],[4,5,6]]);\n",
    "column_sum=np.sum(arr2,axis=0);\n",
    "print(column_sum);"
   ]
  },
  {
   "cell_type": "code",
   "execution_count": null,
   "metadata": {},
   "outputs": [
    {
     "name": "stdout",
     "output_type": "stream",
     "text": [
      "3.0\n"
     ]
    }
   ],
   "source": [
    "#np.mean(): 배열의 평균을 구하는 함수\n",
    "\n",
    "#배열 생성\n",
    "arr=np.array([1,2,3,4,5]);\n",
    "\n",
    "#배열의 평균값 계산\n",
    "mean_value=np.mean(arr);\n",
    "print(mean_value);"
   ]
  },
  {
   "cell_type": "code",
   "execution_count": null,
   "metadata": {},
   "outputs": [
    {
     "name": "stdout",
     "output_type": "stream",
     "text": [
      "[[1 2 3]\n",
      " [4 5 6]]\n"
     ]
    }
   ],
   "source": [
    "#np.reshape(): 배열의 모양을 변경하는 함수\n",
    "\n",
    "#1D 배열 생성\n",
    "arr=np.array([1,2,3,4,5,6]);\n",
    "\n",
    "#2*3 배열로 변환\n",
    "reshaped_arr=np.reshape(arr,(2,3));\n",
    "print(reshaped_arr);"
   ]
  },
  {
   "cell_type": "code",
   "execution_count": null,
   "metadata": {},
   "outputs": [
    {
     "name": "stdout",
     "output_type": "stream",
     "text": [
      "11\n"
     ]
    }
   ],
   "source": [
    "#np.dot(): 두 배열의 행렬 곱을 계산하는 함수\n",
    "\n",
    "#두 배열 생성\n",
    "arr1=np.array([1,2]);\n",
    "arr2=np.array([3,4]);\n",
    "\n",
    "#내적 계산\n",
    "dot_product=np.dot(arr1,arr2);\n",
    "print(dot_product);"
   ]
  },
  {
   "cell_type": "code",
   "execution_count": null,
   "metadata": {},
   "outputs": [
    {
     "name": "stdout",
     "output_type": "stream",
     "text": [
      "[[1 4]\n",
      " [2 5]\n",
      " [3 6]]\n"
     ]
    }
   ],
   "source": [
    "#np.transpose(): 배열을 전치하는 함수\n",
    "#2D 배열 생성\n",
    "arr=np.array([[1,2,3],[4,5,6]]);\n",
    "\n",
    "#배열 전치\n",
    "transposed_arr=np.transpose(arr);\n",
    "print(transposed_arr);\n"
   ]
  },
  {
   "cell_type": "code",
   "execution_count": null,
   "metadata": {},
   "outputs": [
    {
     "name": "stdout",
     "output_type": "stream",
     "text": [
      "[1 2 3 4]\n"
     ]
    }
   ],
   "source": [
    "#np.unique(): 배열에서 고유한 값을 반환하는 함수\n",
    "\n",
    "#배열 생성\n",
    "arr=np.array([1,2,2,3,3,3,4]);\n",
    "\n",
    "#고유한 값 구하기\n",
    "unique_values=np.unique(arr);\n",
    "print(unique_values);\n"
   ]
  }
 ],
 "metadata": {
  "kernelspec": {
   "display_name": ".venv",
   "language": "python",
   "name": "python3"
  },
  "language_info": {
   "codemirror_mode": {
    "name": "ipython",
    "version": 3
   },
   "file_extension": ".py",
   "mimetype": "text/x-python",
   "name": "python",
   "nbconvert_exporter": "python",
   "pygments_lexer": "ipython3",
   "version": "3.12.8"
  }
 },
 "nbformat": 4,
 "nbformat_minor": 2
}
