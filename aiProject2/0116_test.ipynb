{
 "cells": [
  {
   "cell_type": "markdown",
   "metadata": {},
   "source": [
    "# gr.Tabitem"
   ]
  },
  {
   "cell_type": "code",
   "execution_count": 3,
   "metadata": {},
   "outputs": [
    {
     "name": "stdout",
     "output_type": "stream",
     "text": [
      "* Running on local URL:  http://127.0.0.1:7860\n",
      "\n",
      "To create a public link, set `share=True` in `launch()`.\n"
     ]
    },
    {
     "data": {
      "text/html": [
       "<div><iframe src=\"http://127.0.0.1:7860/\" width=\"100%\" height=\"500\" allow=\"autoplay; camera; microphone; clipboard-read; clipboard-write;\" frameborder=\"0\" allowfullscreen></iframe></div>"
      ],
      "text/plain": [
       "<IPython.core.display.HTML object>"
      ]
     },
     "metadata": {},
     "output_type": "display_data"
    },
    {
     "data": {
      "text/plain": []
     },
     "execution_count": 3,
     "metadata": {},
     "output_type": "execute_result"
    }
   ],
   "source": [
    "import gradio as gr\n",
    "\n",
    "def process_text1(input_text):\n",
    "    return f\"Tab 1에서 입력된 텍스트: {input_text}\"\n",
    "\n",
    "def process_text2(input_text):\n",
    "    return f\"Tab 2에서 입력된 텍스트: {input_text}\"\n",
    "\n",
    "# 각 탭을 구성하는 인터페이스 목록\n",
    "tab1 = gr.Interface(fn=process_text1, inputs=gr.Textbox(placeholder=\"Tab 1에 텍스트 입력\", label=\"Tab 1 입력\"), outputs=gr.Textbox())\n",
    "tab2 = gr.Interface(fn=process_text2, inputs=gr.Textbox(placeholder=\"Tab 2에 텍스트 입력\", label=\"Tab 2 입력\"), outputs=gr.Textbox())\n",
    "\n",
    "# Gradio 인터페이스 정의\n",
    "with gr.Blocks() as demo:\n",
    "    gr.TabbedInterface(interface_list=[tab1, tab2])\n",
    "\n",
    "demo.launch()"
   ]
  }
 ],
 "metadata": {
  "kernelspec": {
   "display_name": ".venv",
   "language": "python",
   "name": "python3"
  },
  "language_info": {
   "codemirror_mode": {
    "name": "ipython",
    "version": 3
   },
   "file_extension": ".py",
   "mimetype": "text/x-python",
   "name": "python",
   "nbconvert_exporter": "python",
   "pygments_lexer": "ipython3",
   "version": "3.10.6"
  }
 },
 "nbformat": 4,
 "nbformat_minor": 2
}
