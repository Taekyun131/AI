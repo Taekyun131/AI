{
 "cells": [
  {
   "cell_type": "code",
   "execution_count": 9,
   "metadata": {},
   "outputs": [
    {
     "name": "stdout",
     "output_type": "stream",
     "text": [
      "hello world\n"
     ]
    }
   ],
   "source": [
    "print(\"hello world\")"
   ]
  },
  {
   "cell_type": "code",
   "execution_count": 11,
   "metadata": {},
   "outputs": [
    {
     "data": {
      "text/plain": [
       "20"
      ]
     },
     "execution_count": 11,
     "metadata": {},
     "output_type": "execute_result"
    }
   ],
   "source": [
    "#더하기\n",
    "10+10"
   ]
  },
  {
   "cell_type": "code",
   "execution_count": 13,
   "metadata": {},
   "outputs": [
    {
     "data": {
      "text/plain": [
       "5"
      ]
     },
     "execution_count": 13,
     "metadata": {},
     "output_type": "execute_result"
    }
   ],
   "source": [
    "#빼기\n",
    "10-5"
   ]
  },
  {
   "cell_type": "code",
   "execution_count": 14,
   "metadata": {},
   "outputs": [
    {
     "data": {
      "text/plain": [
       "50"
      ]
     },
     "execution_count": 14,
     "metadata": {},
     "output_type": "execute_result"
    }
   ],
   "source": [
    "#곱하기\n",
    "10*5"
   ]
  },
  {
   "cell_type": "code",
   "execution_count": 16,
   "metadata": {},
   "outputs": [
    {
     "data": {
      "text/plain": [
       "20.0"
      ]
     },
     "execution_count": 16,
     "metadata": {},
     "output_type": "execute_result"
    }
   ],
   "source": [
    "#나누기\n",
    "100/5"
   ]
  },
  {
   "cell_type": "code",
   "execution_count": 18,
   "metadata": {},
   "outputs": [
    {
     "data": {
      "text/plain": [
       "100"
      ]
     },
     "execution_count": 18,
     "metadata": {},
     "output_type": "execute_result"
    }
   ],
   "source": [
    "#제곱은 **를 사용\n",
    "10**2\n"
   ]
  },
  {
   "cell_type": "code",
   "execution_count": 21,
   "metadata": {},
   "outputs": [
    {
     "data": {
      "text/plain": [
       "200"
      ]
     },
     "execution_count": 21,
     "metadata": {},
     "output_type": "execute_result"
    }
   ],
   "source": [
    "(2+3)*((3+5)*5)"
   ]
  },
  {
   "cell_type": "code",
   "execution_count": 24,
   "metadata": {},
   "outputs": [
    {
     "data": {
      "text/plain": [
       "2"
      ]
     },
     "execution_count": 24,
     "metadata": {},
     "output_type": "execute_result"
    }
   ],
   "source": [
    "#절대값 계산\n",
    "a=3;\n",
    "b=5;\n",
    "abs(a-b)"
   ]
  },
  {
   "cell_type": "code",
   "execution_count": 26,
   "metadata": {},
   "outputs": [
    {
     "name": "stdout",
     "output_type": "stream",
     "text": [
      "8\n"
     ]
    }
   ],
   "source": [
    "#변수\n",
    "a=8;\n",
    "print(a);"
   ]
  },
  {
   "cell_type": "code",
   "execution_count": 28,
   "metadata": {},
   "outputs": [
    {
     "name": "stdout",
     "output_type": "stream",
     "text": [
      "22.59814049586777\n"
     ]
    }
   ],
   "source": [
    "#bmi 산출 예시(몸무게 w:kg, 키 h:cm)\n",
    "w=70;\n",
    "h=176;\n",
    "hm=h/100;\n",
    "bmi=w/hm**2;\n",
    "print(bmi);"
   ]
  },
  {
   "cell_type": "code",
   "execution_count": 31,
   "metadata": {},
   "outputs": [
    {
     "name": "stdout",
     "output_type": "stream",
     "text": [
      "당신의 비만도는 정상입니다. 지금과 같은 생활을 유지해 주세요!\n"
     ]
    }
   ],
   "source": [
    "#비만도 측정 예시(if문)\n",
    "if 35<=bmi:\n",
    "    print(\"당신의 비만도는 고도비만입니다. 건강을 위해 매우 많이 노력해주세요!\")\n",
    "elif 30<=bmi and bmi<35:\n",
    "    print(\"당신의 비만도는 2단계 비만입니다. 건강을 위해 많이 노력해주세요!\");\n",
    "elif 25<=bmi and bmi<30:\n",
    "    print(\"당신의 비만도는 1단계 비만입니다. 건강을 위해 노력해주세요!\");\n",
    "elif 23<=bmi and bmi<25:\n",
    "    print(\"당신의 비만도는 과체중입니다. 건강을 위해 조금 노력이 필요합니다!\");\n",
    "elif 18.5<=bmi and bmi<23:\n",
    "    print(\"당신의 비만도는 정상입니다. 지금과 같은 생활을 유지해 주세요!\");\n",
    "elif bmi<18.5:\n",
    "    print(\"당신의 비만도는 저체중입니다. 조금은 체중 증가가 필요합니다.\")"
   ]
  },
  {
   "cell_type": "code",
   "execution_count": 34,
   "metadata": {},
   "outputs": [
    {
     "data": {
      "text/plain": [
       "int"
      ]
     },
     "execution_count": 34,
     "metadata": {},
     "output_type": "execute_result"
    }
   ],
   "source": [
    "##데이터 타입\n",
    "\n",
    "#정수타입\n",
    "i=1;\n",
    "type(i)"
   ]
  },
  {
   "cell_type": "code",
   "execution_count": 36,
   "metadata": {},
   "outputs": [
    {
     "data": {
      "text/plain": [
       "float"
      ]
     },
     "execution_count": 36,
     "metadata": {},
     "output_type": "execute_result"
    }
   ],
   "source": [
    "#실수타입\n",
    "f=2.5;\n",
    "type(f)"
   ]
  },
  {
   "cell_type": "code",
   "execution_count": 38,
   "metadata": {},
   "outputs": [
    {
     "data": {
      "text/plain": [
       "str"
      ]
     },
     "execution_count": 38,
     "metadata": {},
     "output_type": "execute_result"
    }
   ],
   "source": [
    "#문자열 타입\n",
    "s='1';\n",
    "type(s)"
   ]
  },
  {
   "cell_type": "code",
   "execution_count": 40,
   "metadata": {},
   "outputs": [
    {
     "data": {
      "text/plain": [
       "str"
      ]
     },
     "execution_count": 40,
     "metadata": {},
     "output_type": "execute_result"
    }
   ],
   "source": [
    "s=\"1\";\n",
    "type(s)"
   ]
  },
  {
   "cell_type": "code",
   "execution_count": 42,
   "metadata": {},
   "outputs": [
    {
     "data": {
      "text/plain": [
       "float"
      ]
     },
     "execution_count": 42,
     "metadata": {},
     "output_type": "execute_result"
    }
   ],
   "source": [
    "#실수타입\n",
    "type(10/3)"
   ]
  },
  {
   "cell_type": "code",
   "execution_count": 45,
   "metadata": {},
   "outputs": [
    {
     "data": {
      "text/plain": [
       "1.6666666666666667"
      ]
     },
     "execution_count": 45,
     "metadata": {},
     "output_type": "execute_result"
    }
   ],
   "source": [
    "#형변환\n",
    "# '5'/3 >>TypeError\n",
    "int('5')/3"
   ]
  },
  {
   "cell_type": "code",
   "execution_count": 49,
   "metadata": {},
   "outputs": [
    {
     "name": "stdout",
     "output_type": "stream",
     "text": [
      "<class 'bool'> <class 'bool'>\n"
     ]
    }
   ],
   "source": [
    "#불린타입\n",
    "print(type(True),type(False))"
   ]
  },
  {
   "cell_type": "code",
   "execution_count": 52,
   "metadata": {},
   "outputs": [
    {
     "data": {
      "text/plain": [
       "[0, 1, 2, 3, 4, 5, 6, 7, 8, 9]"
      ]
     },
     "execution_count": 52,
     "metadata": {},
     "output_type": "execute_result"
    }
   ],
   "source": [
    "#for문\n",
    "a=range(10) #0에서 9까지 정수목록 반환\n",
    "list(a)"
   ]
  },
  {
   "cell_type": "code",
   "execution_count": 54,
   "metadata": {},
   "outputs": [
    {
     "name": "stdout",
     "output_type": "stream",
     "text": [
      "현재 값:1\n",
      "현재 값:2\n",
      "현재 값:3\n",
      "현재 값:4\n",
      "현재 값:5\n"
     ]
    }
   ],
   "source": [
    "#range(시작값, 종료값, 증가값)\n",
    "for i in range(1,6):\n",
    "    print(f\"현재 값:{i}\")"
   ]
  },
  {
   "cell_type": "code",
   "execution_count": 56,
   "metadata": {},
   "outputs": [
    {
     "name": "stdout",
     "output_type": "stream",
     "text": [
      "55\n"
     ]
    }
   ],
   "source": [
    "#1부터 10까지 합계\n",
    "sum=0;\n",
    "for i in range(1,11):\n",
    "    sum+=i;\n",
    "print(sum)"
   ]
  },
  {
   "cell_type": "code",
   "execution_count": 58,
   "metadata": {},
   "outputs": [
    {
     "name": "stdout",
     "output_type": "stream",
     "text": [
      "3628800\n"
     ]
    }
   ],
   "source": [
    "#1부터 n까지 곱\n",
    "n=10;\n",
    "f=1;\n",
    "for i in range(n):\n",
    "    f=f*(i+1);\n",
    "print(f)"
   ]
  },
  {
   "cell_type": "code",
   "execution_count": 60,
   "metadata": {},
   "outputs": [
    {
     "name": "stdout",
     "output_type": "stream",
     "text": [
      "1\n",
      "2\n",
      "3\n",
      "4\n",
      "5\n",
      "6\n",
      "7\n",
      "8\n",
      "9\n",
      "10\n"
     ]
    }
   ],
   "source": [
    "#while문\n",
    "i=0;\n",
    "while i<10:\n",
    "    i+=1;\n",
    "    print(i);"
   ]
  },
  {
   "cell_type": "code",
   "execution_count": 65,
   "metadata": {},
   "outputs": [
    {
     "name": "stdout",
     "output_type": "stream",
     "text": [
      "테스트에 합격하셨습니다.\n",
      "홀수입니다.\n",
      "B학점\n",
      "조건을 만족합니다\n",
      "b가 a보다 크거나 같다\n"
     ]
    }
   ],
   "source": [
    "#if문\n",
    "score=85;\n",
    "if score>80:\n",
    "    print(\"테스트에 합격하셨습니다.\");\n",
    "   \n",
    "    \n",
    "number=5;\n",
    "if number%2==0:\n",
    "    print(\"짝수입니다\");\n",
    "else:\n",
    "    print(\"홀수입니다.\")\n",
    "    \n",
    "    \n",
    "if score>=90:\n",
    "    print(\"A학점\");\n",
    "elif score>=80:\n",
    "    print(\"B학점\");\n",
    "else:\n",
    "    print(\"C학점\");\n",
    "    \n",
    "\n",
    "x,y=10,20;\n",
    "if x>5 and y<30:\n",
    "    print(\"조건을 만족합니다\")\n",
    "    \n",
    "\n",
    "a=5;\n",
    "b=10;\n",
    "if a<=b:\n",
    "    print(\"b가 a보다 크거나 같다\");\n",
    "else:\n",
    "    print(\"a가 크다\");"
   ]
  }
 ],
 "metadata": {
  "kernelspec": {
   "display_name": ".venv",
   "language": "python",
   "name": "python3"
  },
  "language_info": {
   "codemirror_mode": {
    "name": "ipython",
    "version": 3
   },
   "file_extension": ".py",
   "mimetype": "text/x-python",
   "name": "python",
   "nbconvert_exporter": "python",
   "pygments_lexer": "ipython3",
   "version": "3.12.8"
  }
 },
 "nbformat": 4,
 "nbformat_minor": 2
}
