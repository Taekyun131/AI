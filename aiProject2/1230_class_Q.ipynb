{
 "cells": [
  {
   "cell_type": "code",
   "execution_count": 2,
   "metadata": {},
   "outputs": [
    {
     "name": "stdout",
     "output_type": "stream",
     "text": [
      "Buddy says Woof!\n",
      "Buddy is 3 years old\n"
     ]
    }
   ],
   "source": [
    "#1. 간단한 클래스 정의와 객체 생성\n",
    "class Dog:\n",
    "    def __init__(self, name, age):\n",
    "        self.name=name;\n",
    "        self.age=age;\n",
    "    def bark(self):\n",
    "        print(f\"{self.name} says Woof!\");\n",
    "        \n",
    "#객체 생성\n",
    "dog1=Dog(\"Buddy\",3);\n",
    "dog1.bark();\n",
    "print(f\"{dog1.name} is {dog1.age} years old\");\n",
    "\n"
   ]
  },
  {
   "cell_type": "code",
   "execution_count": 4,
   "metadata": {},
   "outputs": [
    {
     "name": "stdout",
     "output_type": "stream",
     "text": [
      "Animal makes a sound\n",
      "Dog barks\n"
     ]
    }
   ],
   "source": [
    "#2. 상속과 메서드 오버라이딩\n",
    "class Animal:\n",
    "    def speak(self):\n",
    "        print(\"Animal makes a sound\");\n",
    "        \n",
    "class Dog(Animal):\n",
    "    def speak(self):\n",
    "        print(\"Dog barks\");\n",
    "\n",
    "#객체 생성\n",
    "animal=Animal();\n",
    "dog=Dog();\n",
    "\n",
    "animal.speak();\n",
    "dog.speak();"
   ]
  },
  {
   "cell_type": "code",
   "execution_count": 6,
   "metadata": {},
   "outputs": [
    {
     "name": "stdout",
     "output_type": "stream",
     "text": [
      "Alice is in grade 10 at XYZ High School\n",
      "Bob is in grade 12 at XYZ High School\n"
     ]
    }
   ],
   "source": [
    "#3. 클래스 변수와 인스턴스 변수\n",
    "\n",
    "class Student:\n",
    "    #클래스 변수\n",
    "    school_name=\"XYZ High School\";\n",
    "    \n",
    "    def __init__(self,name,grade):\n",
    "        #인스턴스 변수\n",
    "        self.name=name;\n",
    "        self.grade=grade;\n",
    "        \n",
    "    def display_info(self):\n",
    "        print(f\"{self.name} is in grade {self.grade} at {Student.school_name}\");\n",
    "        \n",
    "#객체 생성\n",
    "student1=Student(\"Alice\",10);\n",
    "student2=Student(\"Bob\",12);\n",
    "\n",
    "student1.display_info();\n",
    "student2.display_info();"
   ]
  },
  {
   "cell_type": "code",
   "execution_count": 8,
   "metadata": {},
   "outputs": [
    {
     "name": "stdout",
     "output_type": "stream",
     "text": [
      "Addition: 8\n",
      "Multiplication: 24\n"
     ]
    }
   ],
   "source": [
    "#4. 클래스 메서드와 정적 메서드\n",
    "\n",
    "class MathOperations:\n",
    "    @classmethod\n",
    "    def add(cls,a,b):\n",
    "        return a+b;\n",
    "    \n",
    "    @staticmethod\n",
    "    def multiply(a,b):\n",
    "        return a*b;\n",
    "    \n",
    "#클래스 메서드 사용\n",
    "result1=MathOperations.add(3,5);\n",
    "print(f\"Addition: {result1}\");\n",
    "\n",
    "#정적 메서드 사용\n",
    "result2=MathOperations.multiply(4,6);\n",
    "print(f\"Multiplication: {result2}\");"
   ]
  },
  {
   "cell_type": "code",
   "execution_count": 9,
   "metadata": {},
   "outputs": [
    {
     "name": "stdout",
     "output_type": "stream",
     "text": [
      "Toyota Corolla is created.\n",
      "Toyota Corolla is destroyde.\n"
     ]
    }
   ],
   "source": [
    "#5. 소멸자와 메모리 관리\n",
    "\n",
    "class Car:\n",
    "    def __init__(self,make,model):\n",
    "        self.make=make;\n",
    "        self.model=model;\n",
    "        print(f\"{self.make} {self.model} is created.\");\n",
    "        \n",
    "    def __del__(self):\n",
    "        print(f\"{self.make} {self.model} is destroyde.\");\n",
    "        \n",
    "#객체 생성과 소멸자 호출\n",
    "car1=Car(\"Toyota\",\"Corolla\");\n",
    "del car1"
   ]
  }
 ],
 "metadata": {
  "kernelspec": {
   "display_name": ".venv",
   "language": "python",
   "name": "python3"
  },
  "language_info": {
   "codemirror_mode": {
    "name": "ipython",
    "version": 3
   },
   "file_extension": ".py",
   "mimetype": "text/x-python",
   "name": "python",
   "nbconvert_exporter": "python",
   "pygments_lexer": "ipython3",
   "version": "3.12.8"
  }
 },
 "nbformat": 4,
 "nbformat_minor": 2
}
