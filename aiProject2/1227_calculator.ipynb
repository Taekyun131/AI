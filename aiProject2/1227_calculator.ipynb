{
 "cells": [
  {
   "cell_type": "code",
   "execution_count": 3,
   "metadata": {},
   "outputs": [
    {
     "name": "stdout",
     "output_type": "stream",
     "text": [
      "계산기 프로그램\n",
      "종료하려면 esc를 눌러주세요\n",
      "912\n",
      "값은 정수로 입력해주세요\n",
      "-33\n",
      "계산기를 종료합니다\n"
     ]
    }
   ],
   "source": [
    "import keyboard\n",
    "\n",
    "def addition(x,y):\n",
    "    return x+y;\n",
    "def subtraction(x,y):\n",
    "    return x-y;\n",
    "def multiplication(x,y):\n",
    "    return x*y;\n",
    "def division(x,y):\n",
    "    if(y==0):\n",
    "        return \"0으로 나눌 수 없습니다\";\n",
    "    else:\n",
    "        return x/y;\n",
    "\n",
    "print(\"계산기 프로그램\")\n",
    "print(\"종료하려면 esc를 눌러주세요\")\n",
    "flag=True;\n",
    "while(flag):\n",
    "    try:\n",
    "        x=int(input(\"값을 입력하세요\"));\n",
    "        sign=str(input(\"연산자를 입력하세요\"))\n",
    "        y=int(input(\"값을 입력하세요\"));\n",
    "    except ValueError:\n",
    "        if keyboard.is_pressed(\"esc\"):\n",
    "            print(\"계산기를 종료합니다\")\n",
    "            flag=False;\n",
    "        else:\n",
    "            print(\"값은 정수로 입력해주세요\")\n",
    "    else:\n",
    "        if sign==\"+\":\n",
    "            print(addition(x,y));\n",
    "        elif sign==\"-\":\n",
    "            print(subtraction(x,y));\n",
    "        elif sign==\"*\":\n",
    "            print(multiplication(x,y));\n",
    "        elif sign==\"/\":\n",
    "            print(division(x,y));\n",
    "        else:\n",
    "            print(\"연산자를 정확히 입력해 주세요\")\n",
    "   "
   ]
  }
 ],
 "metadata": {
  "kernelspec": {
   "display_name": ".venv",
   "language": "python",
   "name": "python3"
  },
  "language_info": {
   "codemirror_mode": {
    "name": "ipython",
    "version": 3
   },
   "file_extension": ".py",
   "mimetype": "text/x-python",
   "name": "python",
   "nbconvert_exporter": "python",
   "pygments_lexer": "ipython3",
   "version": "3.12.8"
  }
 },
 "nbformat": 4,
 "nbformat_minor": 2
}
