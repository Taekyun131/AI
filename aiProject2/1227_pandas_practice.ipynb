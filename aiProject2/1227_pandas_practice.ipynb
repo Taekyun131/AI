{
 "cells": [
  {
   "cell_type": "markdown",
   "metadata": {},
   "source": [
    "Pandas 함수 학습"
   ]
  },
  {
   "cell_type": "code",
   "execution_count": 2,
   "metadata": {},
   "outputs": [
    {
     "name": "stdout",
     "output_type": "stream",
     "text": [
      "0    1\n",
      "1    2\n",
      "2    3\n",
      "3    4\n",
      "4    5\n",
      "dtype: int64\n"
     ]
    }
   ],
   "source": [
    "#pd.Series(): pandas의 1차원 데이터 구조인 Series 객체를 생성하는 함수\n",
    "\n",
    "import pandas as pd\n",
    "\n",
    "#리스트로 Series 생성\n",
    "data=[1,2,3,4,5];\n",
    "s=pd.Series(data);\n",
    "print(s);"
   ]
  },
  {
   "cell_type": "code",
   "execution_count": 4,
   "metadata": {},
   "outputs": [
    {
     "name": "stdout",
     "output_type": "stream",
     "text": [
      "{'Name': ['Alice', 'Bob', 'Charlie'], 'Age': [24, 27, 22], 'Salary': [50000, 60000, 45000]}\n",
      "      Name  Age  Salary\n",
      "0    Alice   24   50000\n",
      "1      Bob   27   60000\n",
      "2  Charlie   22   45000\n"
     ]
    }
   ],
   "source": [
    "#pd.DataFrame(): pandas의 2차원 데이터 구조인 DataFrame 객체를 생성하는 함수\n",
    "\n",
    "#딕셔너리로 DataFrame 생성\n",
    "data={\n",
    "    \"Name\":[\"Alice\",\"Bob\",\"Charlie\"],\n",
    "    \"Age\":[24,27,22],\n",
    "    \"Salary\":[50000,60000,45000]\n",
    "};\n",
    "df=pd.DataFrame(data);\n",
    "print(data);\n",
    "print(df);"
   ]
  },
  {
   "cell_type": "code",
   "execution_count": 5,
   "metadata": {},
   "outputs": [
    {
     "name": "stdout",
     "output_type": "stream",
     "text": [
      "      Name  Age  Salary\n",
      "0    Alice   24   50000\n",
      "1      Bob   27   60000\n",
      "2  Charlie   22   45000\n"
     ]
    }
   ],
   "source": [
    "#df.head(): DataFrame의 처음 5개(default) 행을 반환하는 함수\n",
    "\n",
    "#DataFrame 생성\n",
    "data={\n",
    "    \"Name\":[\"Alice\",\"Bob\",\"Charlie\",\"David\",\"Eve\"],\n",
    "    \"Age\":[24,27,22,32,25],\n",
    "    \"Salary\":[50000,60000,45000,70000,55000]\n",
    "}\n",
    "df=pd.DataFrame(data);\n",
    "\n",
    "#처음 3개 행만 보기\n",
    "print(df.head(3));\n"
   ]
  },
  {
   "cell_type": "code",
   "execution_count": 6,
   "metadata": {},
   "outputs": [
    {
     "name": "stdout",
     "output_type": "stream",
     "text": [
      "      Name  Age  Salary\n",
      "2  Charlie   22   45000\n",
      "3    David   32   70000\n",
      "4      Eve   25   55000\n"
     ]
    }
   ],
   "source": [
    "#df.tail(): DataFrame의 마지막 5개 행을 반환하는 함수\n",
    "\n",
    "#DataFrame 생성\n",
    "data={\n",
    "    \"Name\":[\"Alice\",\"Bob\",\"Charlie\",\"David\",\"Eve\"],\n",
    "    \"Age\":[24,27,22,32,25],\n",
    "    \"Salary\":[50000,60000,45000,70000,55000]\n",
    "}\n",
    "\n",
    "df=pd.DataFrame(data);\n",
    "\n",
    "#마지막 3개 행만 보기\n",
    "print(df.tail(3));"
   ]
  },
  {
   "cell_type": "code",
   "execution_count": 7,
   "metadata": {},
   "outputs": [
    {
     "name": "stdout",
     "output_type": "stream",
     "text": [
      "<class 'pandas.core.frame.DataFrame'>\n",
      "RangeIndex: 3 entries, 0 to 2\n",
      "Data columns (total 3 columns):\n",
      " #   Column  Non-Null Count  Dtype \n",
      "---  ------  --------------  ----- \n",
      " 0   Name    3 non-null      object\n",
      " 1   Age     3 non-null      int64 \n",
      " 2   Salary  3 non-null      int64 \n",
      "dtypes: int64(2), object(1)\n",
      "memory usage: 204.0+ bytes\n",
      "None\n"
     ]
    }
   ],
   "source": [
    "#df.info(): DataFrame의 요약정보를 출력하는 함수\n",
    "\n",
    "#DataFrame 생성\n",
    "data={\n",
    "    \"Name\":[\"Alice\",\"Bob\",\"Charlie\"],\n",
    "    \"Age\":[24,227,22],\n",
    "    \"Salary\":[50000,60000,45000]\n",
    "}\n",
    "df=pd.DataFrame(data);\n",
    "\n",
    "#DataFrame 정보 출력\n",
    "print(df.info());"
   ]
  },
  {
   "cell_type": "code",
   "execution_count": 9,
   "metadata": {},
   "outputs": [
    {
     "name": "stdout",
     "output_type": "stream",
     "text": [
      "             Age        Salary\n",
      "count   3.000000      3.000000\n",
      "mean   24.333333  51666.666667\n",
      "std     2.516611   7637.626158\n",
      "min    22.000000  45000.000000\n",
      "25%    23.000000  47500.000000\n",
      "50%    24.000000  50000.000000\n",
      "75%    25.500000  55000.000000\n",
      "max    27.000000  60000.000000\n"
     ]
    }
   ],
   "source": [
    "#df.describe(): DataFrame의 수치형 데이터에 대한 기본적인 통계 정보를 출력하는 함수\n",
    "\n",
    "#DataFrame 생성\n",
    "data={\n",
    "    \"Name\":[\"Alice\",\"Bob\",\"Charlie\"],\n",
    "    \"Age\":[24,27,22],\n",
    "    \"Salary\":[50000,60000,45000]\n",
    "}\n",
    "df=pd.DataFrame(data);\n",
    "print(df.describe());"
   ]
  },
  {
   "cell_type": "code",
   "execution_count": 11,
   "metadata": {},
   "outputs": [
    {
     "name": "stdout",
     "output_type": "stream",
     "text": [
      "Name\n",
      "Alice      52500.0\n",
      "Bob        62500.0\n",
      "Charlie    45000.0\n",
      "Name: Salary, dtype: float64\n"
     ]
    }
   ],
   "source": [
    "#df.groupby(): DataFrame의 데이터를 특정 열을 기준으로 그룹화하는 함수\n",
    "\n",
    "#DataFrame 생성\n",
    "data = {\n",
    "    'Name': ['Alice', 'Bob', 'Charlie', 'Alice', 'Bob'],\n",
    "    'Age': [24, 27, 22, 23, 28],\n",
    "    'Salary': [50000, 60000, 45000, 55000, 65000]\n",
    "}\n",
    "df=pd.DataFrame(data);\n",
    "\n",
    "#Name을 기준으로 그룹화 후 Salary 평균 게산\n",
    "grouped=df.groupby(\"Name\")[\"Salary\"].mean();\n",
    "print(grouped);"
   ]
  },
  {
   "cell_type": "code",
   "execution_count": 13,
   "metadata": {},
   "outputs": [
    {
     "name": "stdout",
     "output_type": "stream",
     "text": [
      "    Name  Age  Salary\n",
      "0  Alice   24   50000\n"
     ]
    }
   ],
   "source": [
    "#df.loc[]: DataFrame에서 레이블을 기준으로 데이터를 선택하는 함수\n",
    "\n",
    "#DataFrame 생성\n",
    "data={\n",
    "    \"Name\":[\"Alice\",\"Bob\",\"Charlie\"],\n",
    "    \"Age\":[24,27,22],\n",
    "    \"Salary\":[50000,60000,45000]\n",
    "}\n",
    "df=pd.DataFrame(data);\n",
    "\n",
    "#Name이 \"Alice\"인 행 선택\n",
    "alice_row=df.loc[df[\"Name\"]==\"Alice\"];\n",
    "print(alice_row);\n"
   ]
  },
  {
   "cell_type": "code",
   "execution_count": 14,
   "metadata": {},
   "outputs": [
    {
     "name": "stdout",
     "output_type": "stream",
     "text": [
      "      Name  Age\n",
      "0    Alice   24\n",
      "1      Bob   27\n",
      "2  Charlie   22\n"
     ]
    }
   ],
   "source": [
    "#df.drop(): DataFrame에서 특정 행이나 열을 삭제하는 함수\n",
    "\n",
    "# DataFrame 생성\n",
    "data = {\n",
    "    'Name': ['Alice', 'Bob', 'Charlie'],\n",
    "    'Age': [24, 27, 22],\n",
    "    'Salary': [50000, 60000, 45000]\n",
    "}\n",
    "df=pd.DataFrame(data);\n",
    "\n",
    "#\"Salary\" 열 삭제\n",
    "df_dropped=df.drop(columns=[\"Salary\"]);\n",
    "print(df_dropped);"
   ]
  },
  {
   "cell_type": "code",
   "execution_count": 16,
   "metadata": {},
   "outputs": [
    {
     "name": "stdout",
     "output_type": "stream",
     "text": [
      "    Name    Age  Salary\n",
      "0  False  False   False\n",
      "1  False   True   False\n",
      "2  False  False    True\n"
     ]
    }
   ],
   "source": [
    "#df.isnull(): DataFrame에서 결측값(Null,Nan)을 확인하는 함수\n",
    "import numpy as np\n",
    "\n",
    "# DataFrame 생성\n",
    "data = {\n",
    "    'Name': ['Alice', 'Bob', 'Charlie'],\n",
    "    'Age': [24, np.nan, 22],\n",
    "    'Salary': [50000, 60000, np.nan]\n",
    "}\n",
    "df = pd.DataFrame(data)\n",
    "\n",
    "#결측값 여부 확인\n",
    "print(df.isnull());\n"
   ]
  },
  {
   "cell_type": "code",
   "execution_count": null,
   "metadata": {},
   "outputs": [],
   "source": []
  }
 ],
 "metadata": {
  "kernelspec": {
   "display_name": ".venv",
   "language": "python",
   "name": "python3"
  },
  "language_info": {
   "codemirror_mode": {
    "name": "ipython",
    "version": 3
   },
   "file_extension": ".py",
   "mimetype": "text/x-python",
   "name": "python",
   "nbconvert_exporter": "python",
   "pygments_lexer": "ipython3",
   "version": "3.12.8"
  }
 },
 "nbformat": 4,
 "nbformat_minor": 2
}
