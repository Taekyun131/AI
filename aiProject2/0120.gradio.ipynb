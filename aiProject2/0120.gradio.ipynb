{
 "cells": [
  {
   "cell_type": "markdown",
   "metadata": {},
   "source": [
    "# 워드클라우드 gradio 예제"
   ]
  },
  {
   "cell_type": "code",
   "execution_count": 5,
   "metadata": {},
   "outputs": [],
   "source": [
    "import gradio as gr\n",
    "from wordcloud import WordCloud\n",
    "import matplotlib.pyplot as plt\n",
    "\n",
    "#워드 클라우드 생성함수\n",
    "def generate_wordcloud(file_obj):\n",
    "    try:\n",
    "        #파일이 없는 경우 처리\n",
    "        if file_obj is None:\n",
    "            return None;\n",
    "        \n",
    "        #Gradio의 파일 객체에서 파일 경로 가져오기\n",
    "        file_path=file_obj.name;\n",
    "        \n",
    "        #파일읽기\n",
    "        with open(file_path, \"r\", encoding=\"utf-8\") as file:\n",
    "            text=file.read();\n",
    "            \n",
    "        #워드클라우드 생성\n",
    "        wordcloud=WordCloud(\n",
    "            font_path=\"malgun\",\n",
    "            background_color=\"white\",\n",
    "            width=800,\n",
    "            height=600,\n",
    "            max_words=200,\n",
    "            max_font_size=100,\n",
    "            min_font_size=10,\n",
    "            random_state=42\n",
    "        ).generate(text);\n",
    "        \n",
    "        #matplotlib 그래프 초기화\n",
    "        plt.clf();\n",
    "        \n",
    "        # 워드클라우드 이미지를 플롯\n",
    "        plt.figure(figsize=(10, 5))\n",
    "        plt.imshow(wordcloud, interpolation='bilinear')\n",
    "        plt.axis('off')\n",
    "        plt.tight_layout()\n",
    "        \n",
    "        #결과 이미지를 저장\n",
    "        output_path=\"wordcloud.png\";\n",
    "        plt.savefig(output_path);\n",
    "        plt.close();    #메모리 누수 방지를 위해 figure 닫기\n",
    "        \n",
    "    except Exception as e:\n",
    "        print(f\"Error: {str(e)}\");\n",
    "        return None;"
   ]
  },
  {
   "cell_type": "code",
   "execution_count": 6,
   "metadata": {},
   "outputs": [],
   "source": [
    "#Gradio 인터페이스 생성\n",
    "iface=gr.Interface(\n",
    "    fn=generate_wordcloud,\n",
    "    inputs=gr.File(label=\"Upload a .txt file\"),\n",
    "    outputs=gr.Image(type=\"filepath\", label=\"WordCloud\")\n",
    ")"
   ]
  },
  {
   "cell_type": "code",
   "execution_count": 7,
   "metadata": {},
   "outputs": [
    {
     "name": "stdout",
     "output_type": "stream",
     "text": [
      "* Running on local URL:  http://0.0.0.0:7861\n",
      "* Running on public URL: https://f0e001ee1a9b38a487.gradio.live\n",
      "\n",
      "This share link expires in 72 hours. For free permanent hosting and GPU upgrades, run `gradio deploy` from the terminal in the working directory to deploy to Hugging Face Spaces (https://huggingface.co/spaces)\n"
     ]
    },
    {
     "data": {
      "text/html": [
       "<div><iframe src=\"https://f0e001ee1a9b38a487.gradio.live\" width=\"100%\" height=\"500\" allow=\"autoplay; camera; microphone; clipboard-read; clipboard-write;\" frameborder=\"0\" allowfullscreen></iframe></div>"
      ],
      "text/plain": [
       "<IPython.core.display.HTML object>"
      ]
     },
     "metadata": {},
     "output_type": "display_data"
    }
   ],
   "source": [
    "iface.launch(server_port=7861, share=True, server_name=\"0.0.0.0\");"
   ]
  },
  {
   "cell_type": "code",
   "execution_count": 4,
   "metadata": {},
   "outputs": [
    {
     "name": "stdout",
     "output_type": "stream",
     "text": [
      "Closing server running on port: 7861\n"
     ]
    }
   ],
   "source": [
    "iface.close()"
   ]
  },
  {
   "cell_type": "markdown",
   "metadata": {},
   "source": [
    "# 자기소개서 도우미 챗봇 예제(Gradio)"
   ]
  },
  {
   "cell_type": "code",
   "execution_count": 32,
   "metadata": {},
   "outputs": [
    {
     "name": "stderr",
     "output_type": "stream",
     "text": [
      "C:\\Users\\human-10\\AppData\\Local\\Temp\\ipykernel_7840\\726246440.py:11: LangChainDeprecationWarning: The class `Ollama` was deprecated in LangChain 0.3.1 and will be removed in 1.0.0. An updated version of the class exists in the :class:`~langchain-ollama package and should be used instead. To use it run `pip install -U :class:`~langchain-ollama` and import as `from :class:`~langchain_ollama import OllamaLLM``.\n",
      "  ollama_model=Ollama(model=\"gemma2\")\n"
     ]
    }
   ],
   "source": [
    "#사전 설치: pip install fpdf\n",
    "import os\n",
    "import gradio as gr\n",
    "from langchain.llms import Ollama\n",
    "from langchain.chains import LLMChain, SimpleSequentialChain\n",
    "from langchain.prompts import PromptTemplate\n",
    "from fpdf import FPDF\n",
    "\n",
    "#Ollama 설정 (Gemma2 모델 사용)\n",
    "os.environ[\"OLLAMA_API_BASE\"]=\"http://localhost:11434\"  # Ollama 서버 주소\n",
    "ollama_model=Ollama(model=\"gemma2\")\n",
    "\n",
    "#다양한 템플릿 설정\n",
    "TEMPLATES={\n",
    "    \"취업\": \"Based on the following keywords and example, write a personal statement for a job application\",\n",
    "    \"대학원\": \"Using the provided keywords, draft a personal statement for a graduate school application\",\n",
    "    \"봉사활동\": \"With the given keywords, write a personal statement emphasizeing volunteer experience and motivation\"\n",
    "}\n",
    "\n",
    "#언어지원: 한국어, 영어, 일본어\n",
    "LANGUAGES={\n",
    "    \"한국어\": \"Please write the response in Korean\",\n",
    "    \"영어\": \"Please write the response in English\",\n",
    "    \"일본어\": \"Please write the response in Japanese\"\n",
    "}\n"
   ]
  },
  {
   "cell_type": "code",
   "execution_count": 36,
   "metadata": {},
   "outputs": [],
   "source": [
    "#자동 키워드 추천함수\n",
    "def recommend_keywords(purpose):\n",
    "    if purpose==\"취업\":\n",
    "        return \"책임감, 팀워크, 문제 해결 능력\"\n",
    "    elif purpose==\"대학원\":\n",
    "        return \"연구 열정, 창의력, 학업 성취도\"\n",
    "    elif purpose==\"봉사활동\":\n",
    "        return \"사회적 책임감, 희생정신, 리더쉽\"\n",
    "    else:\n",
    "        return \"\"\n"
   ]
  },
  {
   "cell_type": "code",
   "execution_count": 37,
   "metadata": {},
   "outputs": [],
   "source": [
    "#자기소개서 작성함수\n",
    "def generate_statement(purpose, language, keywords, example_sentence=None):\n",
    "    if purpose not in TEMPLATES:\n",
    "        return \"❌ 지원 목적을 올바르게 선택해주세요.\"\n",
    "    if purpose not in LANGUAGES:\n",
    "        return \"❌ 언어를 올바르게 선택해주세요.\"\n",
    "    \n",
    "    #템플릿 생성\n",
    "    template=TEMPLATES[purpose]+\"\\n\\nKeywords: {keywords}\\n\"+LANGUAGES[language];\n",
    "    if example_sentence:\n",
    "        template+=f\"\\n\\nExample sentence:{example_sentence}\";\n",
    "        \n",
    "    prompt=PromptTemplate(input_variables=[\"keywords\"], template=template);\n",
    "    chain=LLMChain(llm=ollama_model, prompt=prompt)\n",
    "    response=chain.run({\"keywords\":keywords})\n",
    "    return response"
   ]
  },
  {
   "cell_type": "code",
   "execution_count": 38,
   "metadata": {},
   "outputs": [],
   "source": [
    "#PDF 저장함수\n",
    "def save_to_pdf(statement, filename=\"personal_statement.pdf\"):\n",
    "    pdf=FPDF();\n",
    "    pdf.add_page();\n",
    "    pdf.add_font(\"MalgunGothic\",\"r\",\"C:\\Windows\\Fonts\\malgun.ttf\",uni=True);\n",
    "    pdf.set_font(\"MalgunGothic\", size=12);\n",
    "    pdf.multi_cell(0, 10, statement);\n",
    "    pdf.output(filename);\n",
    "    return f\"✔️ PDF 저장 완료: {filename}\""
   ]
  },
  {
   "cell_type": "code",
   "execution_count": 41,
   "metadata": {},
   "outputs": [],
   "source": [
    "#Gradio 인터페이스\n",
    "def chatbot_interface(purpose, language, keywords, example_sentence=None, save_pdf=False):\n",
    "    statement=generate_statement(purpose, language, keywords, example_sentence)\n",
    "    if save_pdf:\n",
    "        save_to_pdf(statement)\n",
    "    return statement"
   ]
  },
  {
   "cell_type": "code",
   "execution_count": 42,
   "metadata": {},
   "outputs": [],
   "source": [
    "with gr.Blocks() as demo:\n",
    "    gr.Markdown(\"# 📝 다목적 자기소개서 작성 도우미\")\n",
    "    gr.Markdown(\"키워드와 추천 문장을 활용하여 취업, 대학원, 봉사활동 자기소개서를 생성하고 PDF로 저장하세요!\")\n",
    "\n",
    "    # 입력 영역\n",
    "    with gr.Row():\n",
    "        purpose_input = gr.Dropdown(label=\"지원 목적\", choices=[\"취업\", \"대학원\", \"봉사활동\"], value=\"취업\")\n",
    "        language_input = gr.Dropdown(label=\"언어 선택\", choices=[\"한국어\", \"영어\", \"일본어\"], value=\"한국어\")\n",
    "\n",
    "    recommended_keywords = gr.Textbox(label=\"추천 키워드\", interactive=False)\n",
    "    recommend_btn = gr.Button(\"키워드 추천\")\n",
    "    recommend_btn.click(recommend_keywords, inputs=[purpose_input], outputs=[recommended_keywords])\n",
    "\n",
    "    with gr.Row():\n",
    "        keywords_input = gr.Textbox(label=\"사용자 키워드 입력\", placeholder=\"예: 책임감, 팀워크, 문제 해결 능력\")\n",
    "        example_sentence_input = gr.Textbox(\n",
    "            label=\"추천 문장 (선택 사항)\",\n",
    "            placeholder=\"예: '저는 도전을 두려워하지 않고 성공적으로 프로젝트를 완수했습니다.'\"\n",
    "        )\n",
    "\n",
    "    save_pdf_toggle = gr.Checkbox(label=\"PDF로 저장\", value=False)\n",
    "\n",
    "    # 출력 영역\n",
    "    output = gr.Textbox(label=\"작성된 자기소개서\", lines=6)\n",
    "    submit_btn = gr.Button(\"작성하기\")\n",
    "    submit_btn.click(\n",
    "        fn=chatbot_interface,\n",
    "        inputs=[purpose_input, language_input, keywords_input, example_sentence_input, save_pdf_toggle],\n",
    "        outputs=[output]\n",
    "    )"
   ]
  },
  {
   "cell_type": "code",
   "execution_count": 43,
   "metadata": {},
   "outputs": [
    {
     "name": "stdout",
     "output_type": "stream",
     "text": [
      "* Running on local URL:  http://127.0.0.1:7860\n",
      "\n",
      "To create a public link, set `share=True` in `launch()`.\n"
     ]
    },
    {
     "data": {
      "text/html": [
       "<div><iframe src=\"http://127.0.0.1:7860/\" width=\"100%\" height=\"500\" allow=\"autoplay; camera; microphone; clipboard-read; clipboard-write;\" frameborder=\"0\" allowfullscreen></iframe></div>"
      ],
      "text/plain": [
       "<IPython.core.display.HTML object>"
      ]
     },
     "metadata": {},
     "output_type": "display_data"
    },
    {
     "data": {
      "text/plain": []
     },
     "execution_count": 43,
     "metadata": {},
     "output_type": "execute_result"
    },
    {
     "name": "stderr",
     "output_type": "stream",
     "text": [
      "Traceback (most recent call last):\n",
      "  File \"d:\\241223\\aiProject2\\.venv\\lib\\site-packages\\gradio\\queueing.py\", line 625, in process_events\n",
      "    response = await route_utils.call_process_api(\n",
      "  File \"d:\\241223\\aiProject2\\.venv\\lib\\site-packages\\gradio\\route_utils.py\", line 322, in call_process_api\n",
      "    output = await app.get_blocks().process_api(\n",
      "  File \"d:\\241223\\aiProject2\\.venv\\lib\\site-packages\\gradio\\blocks.py\", line 2047, in process_api\n",
      "    result = await self.call_function(\n",
      "  File \"d:\\241223\\aiProject2\\.venv\\lib\\site-packages\\gradio\\blocks.py\", line 1594, in call_function\n",
      "    prediction = await anyio.to_thread.run_sync(  # type: ignore\n",
      "  File \"d:\\241223\\aiProject2\\.venv\\lib\\site-packages\\anyio\\to_thread.py\", line 56, in run_sync\n",
      "    return await get_async_backend().run_sync_in_worker_thread(\n",
      "  File \"d:\\241223\\aiProject2\\.venv\\lib\\site-packages\\anyio\\_backends\\_asyncio.py\", line 2461, in run_sync_in_worker_thread\n",
      "    return await future\n",
      "  File \"d:\\241223\\aiProject2\\.venv\\lib\\site-packages\\anyio\\_backends\\_asyncio.py\", line 962, in run\n",
      "    result = context.run(func, *args)\n",
      "  File \"d:\\241223\\aiProject2\\.venv\\lib\\site-packages\\gradio\\utils.py\", line 869, in wrapper\n",
      "    response = f(*args, **kwargs)\n",
      "  File \"C:\\Users\\human-10\\AppData\\Local\\Temp\\ipykernel_7840\\4078587154.py\", line 3, in chatbot_interface\n",
      "    statement=generate_statement(purpose, language, keywords, example_sentence)\n",
      "NameError: name 'purpose' is not defined. Did you mean: 'purpopse'?\n",
      "Traceback (most recent call last):\n",
      "  File \"d:\\241223\\aiProject2\\.venv\\lib\\site-packages\\gradio\\queueing.py\", line 625, in process_events\n",
      "    response = await route_utils.call_process_api(\n",
      "  File \"d:\\241223\\aiProject2\\.venv\\lib\\site-packages\\gradio\\route_utils.py\", line 322, in call_process_api\n",
      "    output = await app.get_blocks().process_api(\n",
      "  File \"d:\\241223\\aiProject2\\.venv\\lib\\site-packages\\gradio\\blocks.py\", line 2047, in process_api\n",
      "    result = await self.call_function(\n",
      "  File \"d:\\241223\\aiProject2\\.venv\\lib\\site-packages\\gradio\\blocks.py\", line 1594, in call_function\n",
      "    prediction = await anyio.to_thread.run_sync(  # type: ignore\n",
      "  File \"d:\\241223\\aiProject2\\.venv\\lib\\site-packages\\anyio\\to_thread.py\", line 56, in run_sync\n",
      "    return await get_async_backend().run_sync_in_worker_thread(\n",
      "  File \"d:\\241223\\aiProject2\\.venv\\lib\\site-packages\\anyio\\_backends\\_asyncio.py\", line 2461, in run_sync_in_worker_thread\n",
      "    return await future\n",
      "  File \"d:\\241223\\aiProject2\\.venv\\lib\\site-packages\\anyio\\_backends\\_asyncio.py\", line 962, in run\n",
      "    result = context.run(func, *args)\n",
      "  File \"d:\\241223\\aiProject2\\.venv\\lib\\site-packages\\gradio\\utils.py\", line 869, in wrapper\n",
      "    response = f(*args, **kwargs)\n",
      "  File \"C:\\Users\\human-10\\AppData\\Local\\Temp\\ipykernel_7840\\4078587154.py\", line 3, in chatbot_interface\n",
      "    statement=generate_statement(purpose, language, keywords, example_sentence)\n",
      "NameError: name 'purpose' is not defined. Did you mean: 'purpopse'?\n",
      "Traceback (most recent call last):\n",
      "  File \"d:\\241223\\aiProject2\\.venv\\lib\\site-packages\\gradio\\queueing.py\", line 625, in process_events\n",
      "    response = await route_utils.call_process_api(\n",
      "  File \"d:\\241223\\aiProject2\\.venv\\lib\\site-packages\\gradio\\route_utils.py\", line 322, in call_process_api\n",
      "    output = await app.get_blocks().process_api(\n",
      "  File \"d:\\241223\\aiProject2\\.venv\\lib\\site-packages\\gradio\\blocks.py\", line 2047, in process_api\n",
      "    result = await self.call_function(\n",
      "  File \"d:\\241223\\aiProject2\\.venv\\lib\\site-packages\\gradio\\blocks.py\", line 1594, in call_function\n",
      "    prediction = await anyio.to_thread.run_sync(  # type: ignore\n",
      "  File \"d:\\241223\\aiProject2\\.venv\\lib\\site-packages\\anyio\\to_thread.py\", line 56, in run_sync\n",
      "    return await get_async_backend().run_sync_in_worker_thread(\n",
      "  File \"d:\\241223\\aiProject2\\.venv\\lib\\site-packages\\anyio\\_backends\\_asyncio.py\", line 2461, in run_sync_in_worker_thread\n",
      "    return await future\n",
      "  File \"d:\\241223\\aiProject2\\.venv\\lib\\site-packages\\anyio\\_backends\\_asyncio.py\", line 962, in run\n",
      "    result = context.run(func, *args)\n",
      "  File \"d:\\241223\\aiProject2\\.venv\\lib\\site-packages\\gradio\\utils.py\", line 869, in wrapper\n",
      "    response = f(*args, **kwargs)\n",
      "  File \"C:\\Users\\human-10\\AppData\\Local\\Temp\\ipykernel_7840\\4078587154.py\", line 3, in chatbot_interface\n",
      "    statement=generate_statement(purpose, language, keywords, example_sentence)\n",
      "NameError: name 'purpose' is not defined. Did you mean: 'purpopse'?\n",
      "Traceback (most recent call last):\n",
      "  File \"d:\\241223\\aiProject2\\.venv\\lib\\site-packages\\gradio\\queueing.py\", line 625, in process_events\n",
      "    response = await route_utils.call_process_api(\n",
      "  File \"d:\\241223\\aiProject2\\.venv\\lib\\site-packages\\gradio\\route_utils.py\", line 322, in call_process_api\n",
      "    output = await app.get_blocks().process_api(\n",
      "  File \"d:\\241223\\aiProject2\\.venv\\lib\\site-packages\\gradio\\blocks.py\", line 2047, in process_api\n",
      "    result = await self.call_function(\n",
      "  File \"d:\\241223\\aiProject2\\.venv\\lib\\site-packages\\gradio\\blocks.py\", line 1594, in call_function\n",
      "    prediction = await anyio.to_thread.run_sync(  # type: ignore\n",
      "  File \"d:\\241223\\aiProject2\\.venv\\lib\\site-packages\\anyio\\to_thread.py\", line 56, in run_sync\n",
      "    return await get_async_backend().run_sync_in_worker_thread(\n",
      "  File \"d:\\241223\\aiProject2\\.venv\\lib\\site-packages\\anyio\\_backends\\_asyncio.py\", line 2461, in run_sync_in_worker_thread\n",
      "    return await future\n",
      "  File \"d:\\241223\\aiProject2\\.venv\\lib\\site-packages\\anyio\\_backends\\_asyncio.py\", line 962, in run\n",
      "    result = context.run(func, *args)\n",
      "  File \"d:\\241223\\aiProject2\\.venv\\lib\\site-packages\\gradio\\utils.py\", line 869, in wrapper\n",
      "    response = f(*args, **kwargs)\n",
      "  File \"C:\\Users\\human-10\\AppData\\Local\\Temp\\ipykernel_7840\\4078587154.py\", line 3, in chatbot_interface\n",
      "    statement=generate_statement(purpose, language, keywords, example_sentence)\n",
      "NameError: name 'purpose' is not defined. Did you mean: 'purpopse'?\n",
      "Traceback (most recent call last):\n",
      "  File \"d:\\241223\\aiProject2\\.venv\\lib\\site-packages\\gradio\\queueing.py\", line 625, in process_events\n",
      "    response = await route_utils.call_process_api(\n",
      "  File \"d:\\241223\\aiProject2\\.venv\\lib\\site-packages\\gradio\\route_utils.py\", line 322, in call_process_api\n",
      "    output = await app.get_blocks().process_api(\n",
      "  File \"d:\\241223\\aiProject2\\.venv\\lib\\site-packages\\gradio\\blocks.py\", line 2047, in process_api\n",
      "    result = await self.call_function(\n",
      "  File \"d:\\241223\\aiProject2\\.venv\\lib\\site-packages\\gradio\\blocks.py\", line 1594, in call_function\n",
      "    prediction = await anyio.to_thread.run_sync(  # type: ignore\n",
      "  File \"d:\\241223\\aiProject2\\.venv\\lib\\site-packages\\anyio\\to_thread.py\", line 56, in run_sync\n",
      "    return await get_async_backend().run_sync_in_worker_thread(\n",
      "  File \"d:\\241223\\aiProject2\\.venv\\lib\\site-packages\\anyio\\_backends\\_asyncio.py\", line 2461, in run_sync_in_worker_thread\n",
      "    return await future\n",
      "  File \"d:\\241223\\aiProject2\\.venv\\lib\\site-packages\\anyio\\_backends\\_asyncio.py\", line 962, in run\n",
      "    result = context.run(func, *args)\n",
      "  File \"d:\\241223\\aiProject2\\.venv\\lib\\site-packages\\gradio\\utils.py\", line 869, in wrapper\n",
      "    response = f(*args, **kwargs)\n",
      "  File \"C:\\Users\\human-10\\AppData\\Local\\Temp\\ipykernel_7840\\4078587154.py\", line 3, in chatbot_interface\n",
      "    statement=generate_statement(purpose, language, keywords, example_sentence)\n",
      "NameError: name 'purpose' is not defined. Did you mean: 'purpopse'?\n",
      "Traceback (most recent call last):\n",
      "  File \"d:\\241223\\aiProject2\\.venv\\lib\\site-packages\\gradio\\queueing.py\", line 625, in process_events\n",
      "    response = await route_utils.call_process_api(\n",
      "  File \"d:\\241223\\aiProject2\\.venv\\lib\\site-packages\\gradio\\route_utils.py\", line 322, in call_process_api\n",
      "    output = await app.get_blocks().process_api(\n",
      "  File \"d:\\241223\\aiProject2\\.venv\\lib\\site-packages\\gradio\\blocks.py\", line 2047, in process_api\n",
      "    result = await self.call_function(\n",
      "  File \"d:\\241223\\aiProject2\\.venv\\lib\\site-packages\\gradio\\blocks.py\", line 1594, in call_function\n",
      "    prediction = await anyio.to_thread.run_sync(  # type: ignore\n",
      "  File \"d:\\241223\\aiProject2\\.venv\\lib\\site-packages\\anyio\\to_thread.py\", line 56, in run_sync\n",
      "    return await get_async_backend().run_sync_in_worker_thread(\n",
      "  File \"d:\\241223\\aiProject2\\.venv\\lib\\site-packages\\anyio\\_backends\\_asyncio.py\", line 2461, in run_sync_in_worker_thread\n",
      "    return await future\n",
      "  File \"d:\\241223\\aiProject2\\.venv\\lib\\site-packages\\anyio\\_backends\\_asyncio.py\", line 962, in run\n",
      "    result = context.run(func, *args)\n",
      "  File \"d:\\241223\\aiProject2\\.venv\\lib\\site-packages\\gradio\\utils.py\", line 869, in wrapper\n",
      "    response = f(*args, **kwargs)\n",
      "  File \"C:\\Users\\human-10\\AppData\\Local\\Temp\\ipykernel_7840\\4078587154.py\", line 3, in chatbot_interface\n",
      "    statement=generate_statement(purpose, language, keywords, example_sentence)\n",
      "NameError: name 'purpose' is not defined. Did you mean: 'purpopse'?\n",
      "Traceback (most recent call last):\n",
      "  File \"d:\\241223\\aiProject2\\.venv\\lib\\site-packages\\gradio\\queueing.py\", line 625, in process_events\n",
      "    response = await route_utils.call_process_api(\n",
      "  File \"d:\\241223\\aiProject2\\.venv\\lib\\site-packages\\gradio\\route_utils.py\", line 322, in call_process_api\n",
      "    output = await app.get_blocks().process_api(\n",
      "  File \"d:\\241223\\aiProject2\\.venv\\lib\\site-packages\\gradio\\blocks.py\", line 2047, in process_api\n",
      "    result = await self.call_function(\n",
      "  File \"d:\\241223\\aiProject2\\.venv\\lib\\site-packages\\gradio\\blocks.py\", line 1594, in call_function\n",
      "    prediction = await anyio.to_thread.run_sync(  # type: ignore\n",
      "  File \"d:\\241223\\aiProject2\\.venv\\lib\\site-packages\\anyio\\to_thread.py\", line 56, in run_sync\n",
      "    return await get_async_backend().run_sync_in_worker_thread(\n",
      "  File \"d:\\241223\\aiProject2\\.venv\\lib\\site-packages\\anyio\\_backends\\_asyncio.py\", line 2461, in run_sync_in_worker_thread\n",
      "    return await future\n",
      "  File \"d:\\241223\\aiProject2\\.venv\\lib\\site-packages\\anyio\\_backends\\_asyncio.py\", line 962, in run\n",
      "    result = context.run(func, *args)\n",
      "  File \"d:\\241223\\aiProject2\\.venv\\lib\\site-packages\\gradio\\utils.py\", line 869, in wrapper\n",
      "    response = f(*args, **kwargs)\n",
      "  File \"C:\\Users\\human-10\\AppData\\Local\\Temp\\ipykernel_7840\\4078587154.py\", line 3, in chatbot_interface\n",
      "    statement=generate_statement(purpose, language, keywords, example_sentence)\n",
      "NameError: name 'purpose' is not defined. Did you mean: 'purpopse'?\n",
      "Traceback (most recent call last):\n",
      "  File \"d:\\241223\\aiProject2\\.venv\\lib\\site-packages\\gradio\\queueing.py\", line 625, in process_events\n",
      "    response = await route_utils.call_process_api(\n",
      "  File \"d:\\241223\\aiProject2\\.venv\\lib\\site-packages\\gradio\\route_utils.py\", line 322, in call_process_api\n",
      "    output = await app.get_blocks().process_api(\n",
      "  File \"d:\\241223\\aiProject2\\.venv\\lib\\site-packages\\gradio\\blocks.py\", line 2047, in process_api\n",
      "    result = await self.call_function(\n",
      "  File \"d:\\241223\\aiProject2\\.venv\\lib\\site-packages\\gradio\\blocks.py\", line 1594, in call_function\n",
      "    prediction = await anyio.to_thread.run_sync(  # type: ignore\n",
      "  File \"d:\\241223\\aiProject2\\.venv\\lib\\site-packages\\anyio\\to_thread.py\", line 56, in run_sync\n",
      "    return await get_async_backend().run_sync_in_worker_thread(\n",
      "  File \"d:\\241223\\aiProject2\\.venv\\lib\\site-packages\\anyio\\_backends\\_asyncio.py\", line 2461, in run_sync_in_worker_thread\n",
      "    return await future\n",
      "  File \"d:\\241223\\aiProject2\\.venv\\lib\\site-packages\\anyio\\_backends\\_asyncio.py\", line 962, in run\n",
      "    result = context.run(func, *args)\n",
      "  File \"d:\\241223\\aiProject2\\.venv\\lib\\site-packages\\gradio\\utils.py\", line 869, in wrapper\n",
      "    response = f(*args, **kwargs)\n",
      "  File \"C:\\Users\\human-10\\AppData\\Local\\Temp\\ipykernel_7840\\4078587154.py\", line 3, in chatbot_interface\n",
      "    statement=generate_statement(purpose, language, keywords, example_sentence)\n",
      "NameError: name 'purpose' is not defined. Did you mean: 'purpopse'?\n",
      "Traceback (most recent call last):\n",
      "  File \"d:\\241223\\aiProject2\\.venv\\lib\\site-packages\\gradio\\queueing.py\", line 625, in process_events\n",
      "    response = await route_utils.call_process_api(\n",
      "  File \"d:\\241223\\aiProject2\\.venv\\lib\\site-packages\\gradio\\route_utils.py\", line 322, in call_process_api\n",
      "    output = await app.get_blocks().process_api(\n",
      "  File \"d:\\241223\\aiProject2\\.venv\\lib\\site-packages\\gradio\\blocks.py\", line 2047, in process_api\n",
      "    result = await self.call_function(\n",
      "  File \"d:\\241223\\aiProject2\\.venv\\lib\\site-packages\\gradio\\blocks.py\", line 1594, in call_function\n",
      "    prediction = await anyio.to_thread.run_sync(  # type: ignore\n",
      "  File \"d:\\241223\\aiProject2\\.venv\\lib\\site-packages\\anyio\\to_thread.py\", line 56, in run_sync\n",
      "    return await get_async_backend().run_sync_in_worker_thread(\n",
      "  File \"d:\\241223\\aiProject2\\.venv\\lib\\site-packages\\anyio\\_backends\\_asyncio.py\", line 2461, in run_sync_in_worker_thread\n",
      "    return await future\n",
      "  File \"d:\\241223\\aiProject2\\.venv\\lib\\site-packages\\anyio\\_backends\\_asyncio.py\", line 962, in run\n",
      "    result = context.run(func, *args)\n",
      "  File \"d:\\241223\\aiProject2\\.venv\\lib\\site-packages\\gradio\\utils.py\", line 869, in wrapper\n",
      "    response = f(*args, **kwargs)\n",
      "  File \"C:\\Users\\human-10\\AppData\\Local\\Temp\\ipykernel_7840\\4078587154.py\", line 3, in chatbot_interface\n",
      "    statement=generate_statement(purpose, language, keywords, example_sentence)\n",
      "NameError: name 'purpose' is not defined. Did you mean: 'purpopse'?\n",
      "Traceback (most recent call last):\n",
      "  File \"d:\\241223\\aiProject2\\.venv\\lib\\site-packages\\gradio\\queueing.py\", line 625, in process_events\n",
      "    response = await route_utils.call_process_api(\n",
      "  File \"d:\\241223\\aiProject2\\.venv\\lib\\site-packages\\gradio\\route_utils.py\", line 322, in call_process_api\n",
      "    output = await app.get_blocks().process_api(\n",
      "  File \"d:\\241223\\aiProject2\\.venv\\lib\\site-packages\\gradio\\blocks.py\", line 2047, in process_api\n",
      "    result = await self.call_function(\n",
      "  File \"d:\\241223\\aiProject2\\.venv\\lib\\site-packages\\gradio\\blocks.py\", line 1594, in call_function\n",
      "    prediction = await anyio.to_thread.run_sync(  # type: ignore\n",
      "  File \"d:\\241223\\aiProject2\\.venv\\lib\\site-packages\\anyio\\to_thread.py\", line 56, in run_sync\n",
      "    return await get_async_backend().run_sync_in_worker_thread(\n",
      "  File \"d:\\241223\\aiProject2\\.venv\\lib\\site-packages\\anyio\\_backends\\_asyncio.py\", line 2461, in run_sync_in_worker_thread\n",
      "    return await future\n",
      "  File \"d:\\241223\\aiProject2\\.venv\\lib\\site-packages\\anyio\\_backends\\_asyncio.py\", line 962, in run\n",
      "    result = context.run(func, *args)\n",
      "  File \"d:\\241223\\aiProject2\\.venv\\lib\\site-packages\\gradio\\utils.py\", line 869, in wrapper\n",
      "    response = f(*args, **kwargs)\n",
      "  File \"C:\\Users\\human-10\\AppData\\Local\\Temp\\ipykernel_7840\\4078587154.py\", line 3, in chatbot_interface\n",
      "    statement=generate_statement(purpose, language, keywords, example_sentence)\n",
      "NameError: name 'purpose' is not defined. Did you mean: 'purpopse'?\n",
      "Traceback (most recent call last):\n",
      "  File \"d:\\241223\\aiProject2\\.venv\\lib\\site-packages\\gradio\\queueing.py\", line 625, in process_events\n",
      "    response = await route_utils.call_process_api(\n",
      "  File \"d:\\241223\\aiProject2\\.venv\\lib\\site-packages\\gradio\\route_utils.py\", line 322, in call_process_api\n",
      "    output = await app.get_blocks().process_api(\n",
      "  File \"d:\\241223\\aiProject2\\.venv\\lib\\site-packages\\gradio\\blocks.py\", line 2047, in process_api\n",
      "    result = await self.call_function(\n",
      "  File \"d:\\241223\\aiProject2\\.venv\\lib\\site-packages\\gradio\\blocks.py\", line 1594, in call_function\n",
      "    prediction = await anyio.to_thread.run_sync(  # type: ignore\n",
      "  File \"d:\\241223\\aiProject2\\.venv\\lib\\site-packages\\anyio\\to_thread.py\", line 56, in run_sync\n",
      "    return await get_async_backend().run_sync_in_worker_thread(\n",
      "  File \"d:\\241223\\aiProject2\\.venv\\lib\\site-packages\\anyio\\_backends\\_asyncio.py\", line 2461, in run_sync_in_worker_thread\n",
      "    return await future\n",
      "  File \"d:\\241223\\aiProject2\\.venv\\lib\\site-packages\\anyio\\_backends\\_asyncio.py\", line 962, in run\n",
      "    result = context.run(func, *args)\n",
      "  File \"d:\\241223\\aiProject2\\.venv\\lib\\site-packages\\gradio\\utils.py\", line 869, in wrapper\n",
      "    response = f(*args, **kwargs)\n",
      "  File \"C:\\Users\\human-10\\AppData\\Local\\Temp\\ipykernel_7840\\4078587154.py\", line 3, in chatbot_interface\n",
      "    statement=generate_statement(purpose, language, keywords, example_sentence)\n",
      "NameError: name 'purpose' is not defined. Did you mean: 'purpopse'?\n"
     ]
    }
   ],
   "source": [
    "#실행\n",
    "demo.launch()"
   ]
  },
  {
   "cell_type": "code",
   "execution_count": 35,
   "metadata": {},
   "outputs": [
    {
     "name": "stdout",
     "output_type": "stream",
     "text": [
      "Closing server running on port: 7860\n"
     ]
    }
   ],
   "source": [
    "#종료\n",
    "demo.close()"
   ]
  }
 ],
 "metadata": {
  "kernelspec": {
   "display_name": ".venv",
   "language": "python",
   "name": "python3"
  },
  "language_info": {
   "codemirror_mode": {
    "name": "ipython",
    "version": 3
   },
   "file_extension": ".py",
   "mimetype": "text/x-python",
   "name": "python",
   "nbconvert_exporter": "python",
   "pygments_lexer": "ipython3",
   "version": "3.10.6"
  }
 },
 "nbformat": 4,
 "nbformat_minor": 2
}
