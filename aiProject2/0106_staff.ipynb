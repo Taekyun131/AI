{
 "cells": [
  {
   "cell_type": "markdown",
   "metadata": {},
   "source": [
    "직원 퇴사예측 예제"
   ]
  },
  {
   "cell_type": "code",
   "execution_count": 36,
   "metadata": {},
   "outputs": [
    {
     "name": "stdout",
     "output_type": "stream",
     "text": [
      "   satisfaction_level  last_evaluation  ...  Departments   salary\n",
      "0                0.38             0.53  ...         sales     low\n",
      "1                0.80             0.86  ...         sales  medium\n",
      "2                0.11             0.88  ...         sales  medium\n",
      "3                0.72             0.87  ...         sales     low\n",
      "4                0.37             0.52  ...         sales     low\n",
      "\n",
      "[5 rows x 10 columns]\n"
     ]
    }
   ],
   "source": [
    "#컬럼설명: satisfaction_level(직원만족도점수), last_evaluation(고용주평가점수), numbers_projects(할당된 프로젝트 수)\n",
    "#average_monthly_hours(한달동안 직원이 일한 평균 시간),\n",
    "#time_spent_company(회사에서 근무한 연수), work_accident(근무중 사고유무)\n",
    "#promotion_last_5years(지난 5년 직원이 승진했는지 여부), Departments(부서)\n",
    "#Salary(월급수준 낮음, 중간, 높음), left(직원퇴사 여부)\n",
    "\n",
    "import pandas as pd\n",
    "import numpy as np\n",
    "from sklearn.model_selection import train_test_split\n",
    "from sklearn.ensemble import RandomForestClassifier\n",
    "from sklearn.metrics import accuracy_score, classification_report, confusion_matrix\n",
    "from sklearn.preprocessing import OneHotEncoder, StandardScaler\n",
    "import matplotlib.pyplot as plt\n",
    "\n",
    "# 폰트지정\n",
    "plt.rcParams['font.family'] = 'Malgun Gothic'\n",
    "\n",
    "# 마이너스 부호 깨짐 지정\n",
    "plt.rcParams['axes.unicode_minus'] = False\n",
    "\n",
    "# 숫자가 지수표현식으로 나올 때 지정\n",
    "pd.options.display.float_format = '{:.2f}'.format\n",
    "\n",
    "# 데이터 로드\n",
    "df = pd.read_csv('dataset/HR_comma_sep.csv', encoding='cp949')\n",
    "\n",
    "#데이터 확인\n",
    "print(df.head());\n",
    "\n",
    "# 'left' 열이 정수형인지 확인하고 필요시 변환\n",
    "if df['left'].dtype != 'int64':\n",
    "    df['left'] = df['left'].astype(int)\n",
    "    "
   ]
  },
  {
   "cell_type": "markdown",
   "metadata": {},
   "source": [
    "# 범주형 변수 확인 및 전처리"
   ]
  },
  {
   "cell_type": "code",
   "execution_count": 37,
   "metadata": {},
   "outputs": [],
   "source": [
    "\n",
    "#\"Departments\" 끝에 공백 제거\n",
    "df.rename(columns={\"Departments \":\"Departments\"},inplace=True)\n",
    "\n",
    "\n",
    "#원-핫 인코딩 (범주형 변수 처리)\n",
    "df = pd.get_dummies(df, columns=['Departments','salary'], drop_first=True)\n",
    "\n",
    "#독립변수(X)와 종속변수(y) 설정\n",
    "X=df.drop(\"left\",axis=1);\n",
    "y=df[\"left\"];\n",
    "\n",
    "#데이터 분할(Train: 80%, Test: 20%)\n",
    "X_train,X_test,y_train,y_test=train_test_split(X,y,test_size=0.2,random_state=42);\n",
    "\n",
    "#데이터 스케일링\n",
    "scaler=StandardScaler();\n",
    "X_train_scaled=scaler.fit_transform(X_train);\n",
    "X_test_scaled=scaler.transform(X_test);\n",
    "\n",
    "#모델 학습-랜덤 포레스트\n",
    "model=RandomForestClassifier(n_estimators=100,random_state=42);\n",
    "model.fit(X_train_scaled,y_train);"
   ]
  },
  {
   "cell_type": "code",
   "execution_count": 38,
   "metadata": {},
   "outputs": [
    {
     "name": "stdout",
     "output_type": "stream",
     "text": [
      "Accuracy: 0.99\n",
      "\n",
      "Confusion Matrix:\n",
      "[[2286    8]\n",
      " [  27  679]]\n",
      "\n",
      "Classification Report:\n",
      "              precision    recall  f1-score   support\n",
      "\n",
      "           0       0.99      1.00      0.99      2294\n",
      "           1       0.99      0.96      0.97       706\n",
      "\n",
      "    accuracy                           0.99      3000\n",
      "   macro avg       0.99      0.98      0.98      3000\n",
      "weighted avg       0.99      0.99      0.99      3000\n",
      "\n",
      "\n",
      "Feature Importances:\n",
      "                    Feature  Importance\n",
      "0        satisfaction_level        0.33\n",
      "2            number_project        0.19\n",
      "4        time_spend_company        0.18\n",
      "3      average_montly_hours        0.14\n",
      "1           last_evaluation        0.12\n",
      "5             Work_accident        0.01\n",
      "16               salary_low        0.01\n",
      "15    Departments_technical        0.00\n",
      "17            salary_medium        0.00\n",
      "13        Departments_sales        0.00\n",
      "14      Departments_support        0.00\n",
      "7         Departments_RandD        0.00\n",
      "8    Departments_accounting        0.00\n",
      "6     promotion_last_5years        0.00\n",
      "9            Departments_hr        0.00\n",
      "10   Departments_management        0.00\n",
      "11    Departments_marketing        0.00\n",
      "12  Departments_product_mng        0.00\n"
     ]
    }
   ],
   "source": [
    "#예측\n",
    "y_pred=model.predict(X_test_scaled);\n",
    "\n",
    "#평가\n",
    "accuracy=accuracy_score(y_test,y_pred);\n",
    "print(f\"Accuracy: {accuracy:.2f}\");\n",
    "print(\"\\nConfusion Matrix:\");\n",
    "print(confusion_matrix(y_test,y_pred));\n",
    "print(\"\\nClassification Report:\");\n",
    "print(classification_report(y_test,y_pred));\n",
    "\n",
    "# Feature Importance (중요 변수 확인)\n",
    "feature_importances = pd.DataFrame({\n",
    "    'Feature': X.columns,\n",
    "    'Importance': model.feature_importances_\n",
    "}).sort_values(by='Importance', ascending=False)\n",
    "\n",
    "print(\"\\nFeature Importances:\")\n",
    "print(feature_importances)"
   ]
  }
 ],
 "metadata": {
  "kernelspec": {
   "display_name": ".venv",
   "language": "python",
   "name": "python3"
  },
  "language_info": {
   "codemirror_mode": {
    "name": "ipython",
    "version": 3
   },
   "file_extension": ".py",
   "mimetype": "text/x-python",
   "name": "python",
   "nbconvert_exporter": "python",
   "pygments_lexer": "ipython3",
   "version": "3.10.6"
  }
 },
 "nbformat": 4,
 "nbformat_minor": 2
}
