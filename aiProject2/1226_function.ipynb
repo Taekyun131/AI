{
 "cells": [
  {
   "cell_type": "code",
   "execution_count": 2,
   "metadata": {},
   "outputs": [
    {
     "name": "stdout",
     "output_type": "stream",
     "text": [
      "안녕하세요!\n"
     ]
    }
   ],
   "source": [
    "def greet():\n",
    "    print(\"안녕하세요!\")\n",
    "\n",
    "#함수호출\n",
    "greet();"
   ]
  },
  {
   "cell_type": "code",
   "execution_count": 3,
   "metadata": {},
   "outputs": [
    {
     "name": "stdout",
     "output_type": "stream",
     "text": [
      "8\n"
     ]
    }
   ],
   "source": [
    "def add(a,b):\n",
    "    return a+b;\n",
    "\n",
    "result=add(3,5);\n",
    "print(result);"
   ]
  },
  {
   "cell_type": "code",
   "execution_count": 4,
   "metadata": {},
   "outputs": [
    {
     "name": "stdout",
     "output_type": "stream",
     "text": [
      "안녕하세요,홍길동님!\n",
      "안녕하세요,준호님!\n"
     ]
    }
   ],
   "source": [
    "def greet(name=\"홍길동님\"):\n",
    "    print(f\"안녕하세요,{name}!\");\n",
    "\n",
    "#default값을 출력\n",
    "greet();\n",
    "#매개변수값을 출력\n",
    "greet(\"준호님\");"
   ]
  },
  {
   "cell_type": "code",
   "execution_count": 13,
   "metadata": {},
   "outputs": [
    {
     "name": "stdout",
     "output_type": "stream",
     "text": [
      "24\n"
     ]
    }
   ],
   "source": [
    "#args: 임의의 개수의 매개변수를 받음\n",
    "def multiply(*args):\n",
    "    result=1;\n",
    "    for num in args:\n",
    "        result*=num;\n",
    "    return result;\n",
    "\n",
    "print(multiply(2,3,4));"
   ]
  },
  {
   "cell_type": "code",
   "execution_count": 17,
   "metadata": {},
   "outputs": [
    {
     "name": "stdout",
     "output_type": "stream",
     "text": [
      "양수입니다\n",
      "음수입니다.\n",
      "0입니다.\n"
     ]
    }
   ],
   "source": [
    "def check_number(num):\n",
    "    \"\"\"숫자가 양수, 음수 또는 0인지 확인\"\"\"\n",
    "    if num>0:\n",
    "        return \"양수입니다\";\n",
    "    elif num<0:\n",
    "        return \"음수입니다.\";\n",
    "    else:\n",
    "        return \"0입니다.\";\n",
    "    \n",
    "print(check_number(5));\n",
    "print(check_number(-3));\n",
    "print(check_number(0));"
   ]
  },
  {
   "cell_type": "code",
   "execution_count": 18,
   "metadata": {},
   "outputs": [
    {
     "name": "stdout",
     "output_type": "stream",
     "text": [
      "로그인 성공\n",
      "로그인 실패\n"
     ]
    }
   ],
   "source": [
    "def login_check(username,password):\n",
    "    \"\"\"사용자 이름과 비밀번호를 확인\"\"\"\n",
    "    if username==\"admin\" and password==\"1234\":\n",
    "        return \"로그인 성공\";\n",
    "    else:\n",
    "        return \"로그인 실패\";\n",
    "print(login_check(\"admin\",\"1234\"));\n",
    "print(login_check(\"admin\",\"5678\"));"
   ]
  },
  {
   "cell_type": "code",
   "execution_count": 21,
   "metadata": {},
   "outputs": [
    {
     "name": "stdout",
     "output_type": "stream",
     "text": [
      "9\n"
     ]
    }
   ],
   "source": [
    "def find_max(numbers):\n",
    "    max_num=numbers[0];\n",
    "    for num in numbers:\n",
    "        if num>max_num:\n",
    "            max_num=num;\n",
    "    return max_num;\n",
    "\n",
    "numbers=[1,5,3,9,2];\n",
    "print(find_max(numbers));"
   ]
  },
  {
   "cell_type": "code",
   "execution_count": 23,
   "metadata": {},
   "outputs": [
    {
     "name": "stdout",
     "output_type": "stream",
     "text": [
      "[2, 4, 6, 8, 10]\n"
     ]
    }
   ],
   "source": [
    "def get_even_numbers(start,end):\n",
    "    even_nums=[];\n",
    "    for num in range(start,end+1):\n",
    "        if num%2==0:\n",
    "            even_nums.append(num);\n",
    "    return even_nums;\n",
    "\n",
    "print(get_even_numbers(1,10));"
   ]
  },
  {
   "cell_type": "code",
   "execution_count": 30,
   "metadata": {},
   "outputs": [
    {
     "name": "stdout",
     "output_type": "stream",
     "text": [
      "1개월 차 :200,000원 저축\n",
      "2개월 차 :400,000원 저축\n",
      "3개월 차 :600,000원 저축\n",
      "4개월 차 :800,000원 저축\n",
      "5개월 차 :1,000,000원 저축\n",
      "5개월 만에 목표 금액 달성!\n"
     ]
    }
   ],
   "source": [
    "def saving_simulation(target_amount,monthly_saving):\n",
    "    total=0;\n",
    "    months=0;\n",
    "    while total<target_amount:\n",
    "        total+=monthly_saving;\n",
    "        months+=1;\n",
    "        print(f\"{months}개월 차 :{total:,}원 저축\");     #{total:,}에서 ,는 1000단위 구분\n",
    "    return f\"{months}개월 만에 목표 금액 달성!\";\n",
    "\n",
    "print(saving_simulation(1000000,200000));\n",
    "        "
   ]
  },
  {
   "cell_type": "code",
   "execution_count": 39,
   "metadata": {},
   "outputs": [
    {
     "name": "stdout",
     "output_type": "stream",
     "text": [
      "89보다 더 작은 숫자입니다!\n",
      "64보다 더 작은 숫자입니다!\n",
      "정답: 45! \n",
      "3번 만에 맞추셨습니다.\n"
     ]
    }
   ],
   "source": [
    "def guess_number(answer):\n",
    "    count=0;\n",
    "    guess=None;\n",
    "    while guess!=answer:\n",
    "        guess=int(input(\"1부터 100 사이의 숫자를 맞춰보세요\"));\n",
    "        count+=1;\n",
    "        if guess<answer:\n",
    "            print(f\"{guess}보다 더 큰 숫자입니다!\");\n",
    "        elif guess>answer:\n",
    "            print(f\"{guess}보다 더 작은 숫자입니다!\");\n",
    "    return f\"\"\"정답: {guess}! \n",
    "{count}번 만에 맞추셨습니다.\"\"\";\n",
    "print(guess_number(45));"
   ]
  },
  {
   "cell_type": "code",
   "execution_count": 47,
   "metadata": {},
   "outputs": [
    {
     "name": "stdout",
     "output_type": "stream",
     "text": [
      "=====데이터 정규화 예제=====\n",
      "원본 데이터: [10, 20, 30, 40, 50]\n",
      "정규화된 데이터: [0.0, 0.25, 0.5, 0.75, 1.0]\n"
     ]
    }
   ],
   "source": [
    "#정규화: 서로 다른 범위의 값들을 비교할 때, 값들을 동일한 기준으로 맞춤\n",
    "def normalize_data(numbers):\n",
    "    \"\"\"데이터를 0~1 사이의 값으로 정규화하는 함수\n",
    "    정규화=(값-최소값)/(최대값-최소값)\n",
    "    매개변수:\n",
    "        numbers: 정규화할 숫자 리스트\n",
    "    반환값:\n",
    "        정규화된 데이터 리스트(0~1사이의 값)\"\"\"\n",
    "    min_value=min(numbers);     #데이터의 최소값\n",
    "    max_value=max(numbers);     #데이터의 최대값\n",
    "    normalized=[];              #정규화된 값을 저장할 리스트\n",
    "    \n",
    "    for num in numbers:\n",
    "        #정규화 공식 적용\n",
    "        norm_value=(num-min_value)/(max_value-min_value);\n",
    "        normalized.append(norm_value);\n",
    "    return normalized;\n",
    "\n",
    "data=[10,20,30,40,50];\n",
    "print(\"=====데이터 정규화 예제=====\");\n",
    "print(\"원본 데이터:\",data)      #출력: 원본데이터 [10,20,30,40,50]\n",
    "normalized=normalize_data(data);\n",
    "print(\"정규화된 데이터:\",normalized);"
   ]
  },
  {
   "cell_type": "code",
   "execution_count": 49,
   "metadata": {},
   "outputs": [
    {
     "name": "stdout",
     "output_type": "stream",
     "text": [
      "=====데이터 분할 예제=====\n",
      "전체 데이터: [1, 2, 3, 4, 5, 6, 7, 8, 9, 10]\n",
      "\\기본 비율(80%)로 분할\n",
      "학습 데이터: [1, 2, 3, 4, 5, 6, 7, 8]\n",
      "테스트 데이터: [9, 10]\n",
      "[1, 2, 3, 4, 5, 6, 7, 8, 9, 10]\n"
     ]
    }
   ],
   "source": [
    "#데이터 분할 함수\n",
    "def split_data(data,train_ratio=0.8):\n",
    "    \"\"\"\n",
    "    데이터를 학습용과 테스트용으로 분리하는 함수\n",
    "    매개변수:\n",
    "        data: 분할할 데이터 리스트\n",
    "        train_ratio: 학습 데이터의 비율 (기본값 0.8=80%)\n",
    "    반환값:\n",
    "        train_data: 학습용 데이터\n",
    "        test_data: 테스트용 데이터\n",
    "    \"\"\"\n",
    "    #학습 데이터 개수 계산\n",
    "    split_index=int(len(data)*train_ratio);     #len함수: 문자열, 리스트, 튜플 등 길이 측정\n",
    "    #데이터 분할\n",
    "    train_data=data[:split_index];              #처음부터 split_index까지\n",
    "    test_data=data[split_index:];               #split_index부터 끝까지\n",
    "    return train_data,test_data;\n",
    "\n",
    "#데이터 분할 함수 사용 예시\n",
    "full_data=[1,2,3,4,5,6,7,8,9,10];\n",
    "print(\"=====데이터 분할 예제=====\");\n",
    "print(\"전체 데이터:\",full_data);                #,로 결과로 나오는 리스트의 요소 값을 구분\n",
    "#80:20으로 분할\n",
    "train,test=split_data(full_data);\n",
    "print(\"\\기본 비율(80%)로 분할\");\n",
    "print(\"학습 데이터:\",train);\n",
    "print(\"테스트 데이터:\",test);\n",
    "\n",
    "    \n",
    "        "
   ]
  },
  {
   "cell_type": "code",
   "execution_count": null,
   "metadata": {},
   "outputs": [],
   "source": []
  },
  {
   "cell_type": "code",
   "execution_count": 50,
   "metadata": {},
   "outputs": [
    {
     "name": "stdout",
     "output_type": "stream",
     "text": [
      "12\n"
     ]
    }
   ],
   "source": [
    "#람다함수\n",
    "multiply=lambda x,y:x*y;\n",
    "print(multiply(3,4));"
   ]
  },
  {
   "cell_type": "code",
   "execution_count": 56,
   "metadata": {},
   "outputs": [
    {
     "name": "stdout",
     "output_type": "stream",
     "text": [
      "25\n",
      "12\n"
     ]
    }
   ],
   "source": [
    "square=lambda x:x**2;\n",
    "print(square(5));\n",
    "\n",
    "\n",
    "add=lambda a,b:a+b;\n",
    "print(add(4,8));"
   ]
  },
  {
   "cell_type": "code",
   "execution_count": 54,
   "metadata": {},
   "outputs": [
    {
     "name": "stdout",
     "output_type": "stream",
     "text": [
      "홀수\n"
     ]
    }
   ],
   "source": [
    "check_even=lambda x:\"짝수\" if x%2==0 else \"홀수\";\n",
    "print(check_even(5));"
   ]
  },
  {
   "cell_type": "code",
   "execution_count": 2,
   "metadata": {},
   "outputs": [
    {
     "name": "stdout",
     "output_type": "stream",
     "text": [
      "[9, 5, 2, 1]\n"
     ]
    }
   ],
   "source": [
    "numbers=[5,2,9,1];\n",
    "sorted_numbers=sorted(numbers,reverse=True)\n",
    "print(sorted_numbers);\n",
    "\n",
    "##sorted 함수: 객체를 입력받아 정렬된 리스트를 반환하는 내장함수, 다른 메모리 사용\n",
    "##sort 함수: 객체를 입력받아 정렬된 리스트를 반환하는 내장함수, 같은 메모리 사용\n",
    "\n",
    "##key: 어떤 요소를 키값으로 삼아 정렬할 것인지에 대한 매개변수\n"
   ]
  },
  {
   "cell_type": "code",
   "execution_count": 68,
   "metadata": {},
   "outputs": [
    {
     "name": "stdout",
     "output_type": "stream",
     "text": [
      "<class 'int'>\n",
      "10\n",
      "3.14\n",
      "123\n",
      "False\n",
      "True\n",
      "3\n",
      "6\n",
      "3\n",
      "1\n",
      "[1, 2, 3]\n",
      "[3, 2, 1]\n",
      "Hello, world\n",
      "3.14\n",
      "5\n",
      "3.14\n",
      "8\n"
     ]
    }
   ],
   "source": [
    "#데이터 변환 및 확인 함수\n",
    "print(type(123));\n",
    "print(int(\"10\"));\n",
    "print(float(\"3.14\"));\n",
    "print(str(123));\n",
    "print(bool(0));\n",
    "print(isinstance(123,int));\n",
    "\n",
    "#데이터 처리 함수\n",
    "print(len([1,2,3]));\n",
    "print(sum([1,2,3]));\n",
    "print(max([1,2,3]));\n",
    "print(min([1,2,3]));\n",
    "print(sorted([3,1,2]));\n",
    "print(list(reversed([1,2,3])));\n",
    "\n",
    "#입력/출력 함수\n",
    "print(\"Hello, world\");\n",
    "\"\"\"input(\"Enter name:\");\"\"\"\n",
    "print(\"{:.2f}\".format(3.14159));\n",
    "\n",
    "#수학함수\n",
    "print(abs(-5));\n",
    "print(round(3.14159,2));\n",
    "print(pow(2,3));\n",
    "\n"
   ]
  },
  {
   "cell_type": "code",
   "execution_count": 37,
   "metadata": {},
   "outputs": [
    {
     "name": "stdout",
     "output_type": "stream",
     "text": [
      "Black Pink\n",
      "['Black', 'Pink']\n",
      "['Blac', ' Pin', '']\n",
      "['Black ', 'nk']\n",
      "blackpink@gmail.com\n",
      "['blackpink', 'gmail.com']\n",
      "blackpink\n",
      "gmail.com\n"
     ]
    }
   ],
   "source": [
    "#split 함수\n",
    "full_name=\"Black Pink\";\n",
    "print(full_name); \n",
    "\n",
    "print(full_name.split());\n",
    "\n",
    "print(full_name.split(\"k\"));\n",
    "\n",
    "print(full_name.split(\"Pi\"))\n",
    "\n",
    "email=\"blackpink@gmail.com\";\n",
    "print(email);\n",
    "\n",
    "z=email.split(\"@\");\n",
    "print(z);\n",
    "\n",
    "print(z[0]);\n",
    "\n",
    "print(z[1]);"
   ]
  },
  {
   "cell_type": "code",
   "execution_count": 43,
   "metadata": {},
   "outputs": [
    {
     "name": "stdout",
     "output_type": "stream",
     "text": [
      "BlackPink\n",
      "BLACKPINK\n",
      "blackpink\n",
      "Blackpink\n"
     ]
    }
   ],
   "source": [
    "#upper, lower, title 함수\n",
    "first_name=\"Black\";\n",
    "last_name=\"Pink\";\n",
    "full_name=first_name+last_name;\n",
    "print(full_name);\n",
    "\n",
    "print(full_name.upper());\n",
    "\n",
    "print(full_name.lower());\n",
    "\n",
    "print(full_name.title());"
   ]
  },
  {
   "cell_type": "code",
   "execution_count": 56,
   "metadata": {},
   "outputs": [
    {
     "name": "stdout",
     "output_type": "stream",
     "text": [
      "Hello\n",
      "Python\n",
      "탭을\t사용한\t예시\n",
      "백슬래시는 이렇게 \\출력\n",
      "안녕하세요, Alice입니다. 저는 30살입니다.\n",
      "3.1\n",
      "8\n",
      "[2, 4, 6, 8, 10]\n",
      "[2, 4, 6, 8, 10]\n",
      "['APPLE', 'BANANA', 'CHERRY']\n",
      "[2, 4]\n",
      "[(1, 'a'), (2, 'b'), (3, 'c')]\n",
      "0 apple\n",
      "1 banana\n",
      "2 cherry\n"
     ]
    }
   ],
   "source": [
    "#줄바꿈\n",
    "print(\"Hello\\nPython\");\n",
    "\n",
    "#탭\n",
    "print(\"탭을\\t사용한\\t예시\");\n",
    "\n",
    "#백슬래시\n",
    "print(\"백슬래시는 이렇게 \\\\출력\");\n",
    "\n",
    "#format함수: f-string과 유사\n",
    "name=\"Alice\";\n",
    "age=30;\n",
    "greeting=\"안녕하세요, {}입니다. 저는 {}살입니다.\".format(name,age);\n",
    "print(greeting);\n",
    "\n",
    "#round함수: 숫자 반올림\n",
    "number=3.14159;\n",
    "rounded_number=round(number,1);\n",
    "print(rounded_number);\n",
    "\n",
    "#pow함수: 밑수를 지수승으로 계산\n",
    "result=pow(2,3);\n",
    "print(result);\n",
    "\n",
    "#map 함수(1): 데이터를 일정한 방식(함수)으로 모두 처리해주는 역할\n",
    "numbers=[1,2,3,4,5];\n",
    "doubled_numbers=list(map(lambda x:x*2,numbers));\n",
    "print(doubled_numbers);\n",
    "\n",
    "#map 함수(2)\n",
    "numbers=[1,2,3,4,5];\n",
    "\n",
    "def double(x):\n",
    "    return x*2;\n",
    "\n",
    "result=list(map(double,numbers));\n",
    "print(result);\n",
    "\n",
    "#map 함수(3)\n",
    "word=[\"apple\",\"banana\",\"cherry\"];\n",
    "def to_upper(s):\n",
    "    return s.upper();\n",
    "result=list(map(to_upper,word));\n",
    "print(result);\n",
    "\n",
    "#filter 함수: 함수의 결과가 True인 요소만 추출\n",
    "numbers=[1,2,3,4,5];\n",
    "even_numbers=list(filter(lambda x:x%2==0,numbers));\n",
    "print(even_numbers);\n",
    "\n",
    "#zip 함수: 같은 인덱스에 있는 요소들을 튜플로 반환\n",
    "list1=[1,2,3];\n",
    "list2=[\"a\",\"b\",\"c\"];\n",
    "result=list(zip(list1,list2));\n",
    "print(result);\n",
    "\n",
    "#enumerate 함수: 각 요소에 대해 (index, value) 튜플을 반환\n",
    "fruits=[\"apple\",\"banana\",\"cherry\"];\n",
    "for index, fruit in enumerate(fruits):\n",
    "    print(index,fruit);"
   ]
  },
  {
   "cell_type": "code",
   "execution_count": 81,
   "metadata": {},
   "outputs": [
    {
     "name": "stdout",
     "output_type": "stream",
     "text": [
      "['apple', 'banana', 'cherry']\n",
      "['apple', 'banana', 'cherry', 'date']\n",
      "['apple', 'banana', 'cherry']\n",
      "['apple', 'cherry']\n",
      "cherry\n",
      "['apple', 'banana']\n",
      "[1, 1, 3, 4, 5]\n",
      "[3, 2, 1]\n",
      "2\n",
      "1\n"
     ]
    }
   ],
   "source": [
    "fruits=[\"apple\",\"banana\"];\n",
    "fruits.append(\"cherry\");\n",
    "print(fruits);\n",
    "\n",
    "fruits=[\"apple\",\"banana\"];\n",
    "fruits.extend([\"cherry\",\"date\"]);\n",
    "print(fruits);\n",
    "\n",
    "fruits=[\"apple\",\"cherry\"]\n",
    "fruits.insert(1,\"banana\");\n",
    "print(fruits);\n",
    "\n",
    "fruits=[\"apple\",\"banana\",\"cherry\"];\n",
    "fruits.remove(\"banana\");\n",
    "print(fruits);\n",
    "\n",
    "fruits=[\"apple\",\"banana\",\"cherry\"];\n",
    "last_item=fruits.pop();\n",
    "print(last_item);\n",
    "print(fruits);\n",
    "\n",
    "numbers=[3,1,4,1,5];\n",
    "numbers.sort();\n",
    "print(numbers);\n",
    "\n",
    "numbers=[1,2,3];\n",
    "numbers.reverse();\n",
    "print(numbers);\n",
    "\n",
    "numbers=[1,2,3,1];\n",
    "print(numbers.count(1));\n",
    "\n",
    "fruits=[\"apple\",\"banana\",\"cherry\"];\n",
    "print(fruits.index(\"banana\"));"
   ]
  },
  {
   "cell_type": "code",
   "execution_count": 94,
   "metadata": {},
   "outputs": [
    {
     "name": "stdout",
     "output_type": "stream",
     "text": [
      "hello world\n",
      "HELLO WORLD\n",
      "Hello World\n",
      "bonono\n",
      "['apple', 'banana', 'cherry']\n",
      "apple,banana,cherry\n",
      "6\n",
      "True\n",
      "True\n",
      "True\n",
      "Hello world\n"
     ]
    }
   ],
   "source": [
    "text=\"Hello World\";\n",
    "print(text.lower());\n",
    "print(text.upper());\n",
    "\n",
    "text=\" Hello World \";\n",
    "print(text.strip());\n",
    "\n",
    "text=\"banana\";\n",
    "print(text.replace(\"a\",\"o\"));\n",
    "\n",
    "text=\"apple,banana,cherry\";\n",
    "print(text.split(\",\"));\n",
    "\n",
    "fruits=[\"apple\",\"banana\",\"cherry\"];\n",
    "print(\",\".join(fruits));\n",
    "\n",
    "text=\"Hello World\";\n",
    "print(text.find(\"World\"));\n",
    "print(text.startswith(\"Hello\"));\n",
    "print(text.endswith(\"World\"));\n",
    "\n",
    "text=\"12345\";\n",
    "print(text.isnumeric());\n",
    "\n",
    "text=\"hello world\";\n",
    "print(text.capitalize());"
   ]
  },
  {
   "cell_type": "code",
   "execution_count": null,
   "metadata": {},
   "outputs": [],
   "source": []
  }
 ],
 "metadata": {
  "kernelspec": {
   "display_name": ".venv",
   "language": "python",
   "name": "python3"
  },
  "language_info": {
   "codemirror_mode": {
    "name": "ipython",
    "version": 3
   },
   "file_extension": ".py",
   "mimetype": "text/x-python",
   "name": "python",
   "nbconvert_exporter": "python",
   "pygments_lexer": "ipython3",
   "version": "3.12.8"
  }
 },
 "nbformat": 4,
 "nbformat_minor": 2
}
